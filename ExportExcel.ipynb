{
 "cells": [
  {
   "cell_type": "code",
   "execution_count": 10,
   "metadata": {
    "collapsed": true
   },
   "outputs": [],
   "source": [
    "import pymongo\n",
    "import datetime\n",
    "client = pymongo.MongoClient('127.0.0.1', 27017)\n",
    "db = client['trafficn']\n",
    "dgxqCol = db['DY50_XQ_SSSJ_LS']"
   ]
  },
  {
   "cell_type": "code",
   "execution_count": 20,
   "metadata": {
    "collapsed": false
   },
   "outputs": [
    {
     "data": {
      "text/plain": [
       "datetime.datetime(2015, 7, 1, 0, 0)"
      ]
     },
     "execution_count": 20,
     "metadata": {},
     "output_type": "execute_result"
    }
   ],
   "source": [
    "datetime.datetime(2015,7,1,0,0,0)"
   ]
  },
  {
   "cell_type": "code",
   "execution_count": 25,
   "metadata": {
    "collapsed": true
   },
   "outputs": [],
   "source": [
    "pipeline=[\n",
    "    {\n",
    "        '$match':{\n",
    "            'QSSJ':{\n",
    "                '$gte':datetime.datetime(2015,7,1),\n",
    "                '$lt':datetime.datetime(2015,7,2)\n",
    "            }\n",
    "                 }\n",
    "    },\n",
    "    {\n",
    "        '$project':{'_id':0,'SBMC':1,'ZHLL':1}\n",
    "    },\n",
    "    {\n",
    "        '$group':{\n",
    "            '_id':'$SBMC',\n",
    "            'total':{'$sum':'$ZHLL'}\n",
    "        }\n",
    "    }\n",
    "]"
   ]
  },
  {
   "cell_type": "code",
   "execution_count": 26,
   "metadata": {
    "collapsed": false
   },
   "outputs": [
    {
     "data": {
      "text/plain": [
       "[{u'_id': u'\\u5174\\u5584\\u5927\\u9053', u'total': 15062},\n",
       " {u'_id': u'\\u8c08\\u516c\\u5357\\u8def', u'total': 23103},\n",
       " {u'_id': u'\\u73af\\u5317\\u4e1c\\u8def', u'total': 45489},\n",
       " {u'_id': u'\\u65bd\\u5bb6\\u5357\\u8def', u'total': 13746},\n",
       " {u'_id': u'\\u664b\\u9633\\u4e1c\\u8def', u'total': 23646},\n",
       " {u'_id': u'\\u4f53\\u80b2\\u5317\\u8def', u'total': 19115},\n",
       " {u'_id': u'\\u4ead\\u6865\\u5357\\u8def', u'total': 53205},\n",
       " {u'_id': u'\\u8c08\\u516c\\u5317\\u8def', u'total': 46875},\n",
       " {u'_id': u'\\u73af\\u5317\\u897f\\u8def', u'total': 30958},\n",
       " {u'_id': u'\\u4eba\\u6c11\\u5927\\u9053', u'total': 13891},\n",
       " {u'_id': u'\\u89e3\\u653e\\u4e1c\\u8def', u'total': 47084},\n",
       " {u'_id': u'\\u89e3\\u653e\\u897f\\u8def', u'total': 29711},\n",
       " {u'_id': u'\\u664b\\u9633\\u897f\\u8def', u'total': 11137},\n",
       " {u'_id': u'\\u4f53\\u80b2\\u5357\\u8def', u'total': 53359}]"
      ]
     },
     "execution_count": 26,
     "metadata": {},
     "output_type": "execute_result"
    }
   ],
   "source": [
    "list(dgxqCol.aggregate(pipeline))"
   ]
  },
  {
   "cell_type": "code",
   "execution_count": 29,
   "metadata": {
    "collapsed": false
   },
   "outputs": [
    {
     "data": {
      "text/plain": [
       "'2015-7-1'"
      ]
     },
     "execution_count": 29,
     "metadata": {},
     "output_type": "execute_result"
    }
   ],
   "source": [
    "dt=datetime.datetime(2015,7,1)\n",
    "'%s-%s-%s'%(dt.year,dt.month,dt.day)"
   ]
  },
  {
   "cell_type": "code",
   "execution_count": null,
   "metadata": {
    "collapsed": true
   },
   "outputs": [],
   "source": []
  }
 ],
 "metadata": {
  "kernelspec": {
   "display_name": "Python 2",
   "language": "python",
   "name": "python2"
  },
  "language_info": {
   "codemirror_mode": {
    "name": "ipython",
    "version": 2
   },
   "file_extension": ".py",
   "mimetype": "text/x-python",
   "name": "python",
   "nbconvert_exporter": "python",
   "pygments_lexer": "ipython2",
   "version": "2.7.11"
  }
 },
 "nbformat": 4,
 "nbformat_minor": 0
}
