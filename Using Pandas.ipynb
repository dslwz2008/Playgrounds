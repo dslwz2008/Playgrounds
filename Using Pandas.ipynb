{
 "cells": [
  {
   "cell_type": "code",
   "execution_count": 1,
   "metadata": {
    "collapsed": false
   },
   "outputs": [],
   "source": [
    "import pymongo\n",
    "import numpy as np\n",
    "import pandas as pd\n",
    "import datetime"
   ]
  },
  {
   "cell_type": "code",
   "execution_count": 2,
   "metadata": {
    "collapsed": true
   },
   "outputs": [],
   "source": [
    "def usingPymongo(year,month,day):\n",
    "    client = pymongo.MongoClient('127.0.0.1')\n",
    "    db = client['trafficn']\n",
    "    colName = 'DY50_XQ_SSSJ_LS'\n",
    "    dgxqCol = db[colName]\n",
    "\n",
    "    dtStart = datetime.datetime(year, month, day, 0, 0, 0)\n",
    "    #[start,end)\n",
    "    dtEnd = datetime.datetime(year, month, day+1, 0, 0, 0)\n",
    "    # QSSJ have been converted to datetime , not string in this collection\n",
    "    cursor = dgxqCol.find({'QSSJ':{'$gte':dtStart, '$lt':dtEnd}},{'_id':0,'SBBH':1,'FX':1,'ZHLL':1,'QSSJ':1})\\\n",
    "        .sort('QSSJ', pymongo.ASCENDING)\n",
    "    #print(cursor.count())\n",
    "    df = pd.DataFrame(list(cursor))\n",
    "    return df"
   ]
  },
  {
   "cell_type": "code",
   "execution_count": 3,
   "metadata": {
    "collapsed": false
   },
   "outputs": [
    {
     "name": "stdout",
     "output_type": "stream",
     "text": [
      "184126\n",
      "184126\n",
      "184126\n",
      "184126\n",
      "1 loops, best of 3: 2.56 s per loop\n"
     ]
    }
   ],
   "source": [
    "%timeit usingPymongo(2015,7,1)"
   ]
  },
  {
   "cell_type": "code",
   "execution_count": 8,
   "metadata": {
    "collapsed": false
   },
   "outputs": [
    {
     "name": "stdout",
     "output_type": "stream",
     "text": [
      "184126\n",
      "   FX       QSSJ  SBBH  ZHLL\n",
      "0   1 2015-07-01    26     1\n",
      "1   2 2015-07-01    26     1\n",
      "2   2 2015-07-01     2     1\n",
      "3   1 2015-07-01     2     3\n",
      "4   1 2015-07-01    22     9\n"
     ]
    }
   ],
   "source": [
    "df =usingPymongo(2015,7,1)\n",
    "print(df.head())"
   ]
  },
  {
   "cell_type": "code",
   "execution_count": 5,
   "metadata": {
    "collapsed": true
   },
   "outputs": [],
   "source": [
    "def dgxq_all():\n",
    "    client = pymongo.MongoClient('127.0.0.1')\n",
    "    db = client['trafficn']\n",
    "    colName = 'DGXQ'\n",
    "    taxiCol = db[colName]\n",
    "    cursor = taxiCol.find({},{'_id':0,'SBDM':1,'SBMC':1})\\\n",
    "            .sort('SBDM', pymongo.ASCENDING)\n",
    "    df = pd.DataFrame(list(cursor))\n",
    "    return df"
   ]
  },
  {
   "cell_type": "code",
   "execution_count": 7,
   "metadata": {
    "collapsed": false
   },
   "outputs": [
    {
     "name": "stdout",
     "output_type": "stream",
     "text": [
      "   SBDM  SBMC\n",
      "0     1  施家北路\n",
      "1     2  施家南路\n",
      "2     3  木业大道\n",
      "3     4  谈公北路\n",
      "4     5  谈公北路\n"
     ]
    }
   ],
   "source": [
    "df2 = dgxq_all()\n",
    "print(df2.head())"
   ]
  },
  {
   "cell_type": "code",
   "execution_count": 9,
   "metadata": {
    "collapsed": false
   },
   "outputs": [
    {
     "data": {
      "text/plain": [
       "0    26\n",
       "1    26\n",
       "2     2\n",
       "3     2\n",
       "4    22\n",
       "Name: SBBH, dtype: int64"
      ]
     },
     "execution_count": 9,
     "metadata": {},
     "output_type": "execute_result"
    }
   ],
   "source": [
    "df['SBBH'].head()"
   ]
  },
  {
   "cell_type": "code",
   "execution_count": 11,
   "metadata": {
    "collapsed": false
   },
   "outputs": [
    {
     "name": "stdout",
     "output_type": "stream",
     "text": [
      "   FX                QSSJ  SBBH  ZHLL  SBDM  SBMC\n",
      "0   1 2015-07-01 00:00:00    26     1    26  人民大道\n",
      "1   2 2015-07-01 00:00:00    26     1    26  人民大道\n",
      "2   1 2015-07-01 00:00:30    26     2    26  人民大道\n",
      "3   2 2015-07-01 00:00:30    26     2    26  人民大道\n",
      "4   1 2015-07-01 00:01:00    26     3    26  人民大道\n"
     ]
    }
   ],
   "source": [
    "merged = pd.merge(df,df2,left_on='SBBH',right_on='SBDM')\n",
    "print(merged.head())"
   ]
  },
  {
   "cell_type": "code",
   "execution_count": 14,
   "metadata": {
    "collapsed": false
   },
   "outputs": [
    {
     "data": {
      "text/plain": [
       "FX               int64\n",
       "QSSJ    datetime64[ns]\n",
       "SBBH             int64\n",
       "ZHLL             int64\n",
       "SBDM             int64\n",
       "SBMC            object\n",
       "dtype: object"
      ]
     },
     "execution_count": 14,
     "metadata": {},
     "output_type": "execute_result"
    }
   ],
   "source": [
    "merged.dtypes"
   ]
  },
  {
   "cell_type": "code",
   "execution_count": 15,
   "metadata": {
    "collapsed": false
   },
   "outputs": [
    {
     "data": {
      "text/plain": [
       "24"
      ]
     },
     "execution_count": 15,
     "metadata": {},
     "output_type": "execute_result"
    }
   ],
   "source": [
    "merged['ZHLL'].max()"
   ]
  },
  {
   "cell_type": "code",
   "execution_count": 16,
   "metadata": {
    "collapsed": false
   },
   "outputs": [
    {
     "data": {
      "text/plain": [
       "0"
      ]
     },
     "execution_count": 16,
     "metadata": {},
     "output_type": "execute_result"
    }
   ],
   "source": [
    "merged['ZHLL'].min()"
   ]
  },
  {
   "cell_type": "code",
   "execution_count": 20,
   "metadata": {
    "collapsed": false
   },
   "outputs": [
    {
     "name": "stdout",
     "output_type": "stream",
     "text": [
      "0:30:00\n"
     ]
    }
   ],
   "source": [
    "delta=datetime.timedelta(minutes=30)\n",
    "print delta"
   ]
  },
  {
   "cell_type": "code",
   "execution_count": 23,
   "metadata": {
    "collapsed": false
   },
   "outputs": [
    {
     "name": "stdout",
     "output_type": "stream",
     "text": [
      "2015-07-01 00:00:00\n"
     ]
    }
   ],
   "source": [
    "dt = datetime.datetime(2015,7,1,0,0,0)\n",
    "print dt"
   ]
  },
  {
   "cell_type": "code",
   "execution_count": 27,
   "metadata": {
    "collapsed": false
   },
   "outputs": [
    {
     "name": "stdout",
     "output_type": "stream",
     "text": [
      "2015-07-01 00:30:00\n"
     ]
    }
   ],
   "source": [
    "start = dt + delta\n",
    "print start"
   ]
  },
  {
   "cell_type": "code",
   "execution_count": 28,
   "metadata": {
    "collapsed": false
   },
   "outputs": [
    {
     "data": {
      "text/plain": [
       "3812"
      ]
     },
     "execution_count": 28,
     "metadata": {},
     "output_type": "execute_result"
    }
   ],
   "source": [
    "len(merged[merged['QSSJ']<start])"
   ]
  },
  {
   "cell_type": "code",
   "execution_count": 29,
   "metadata": {
    "collapsed": false
   },
   "outputs": [
    {
     "name": "stdout",
     "output_type": "stream",
     "text": [
      "2015-07-01 01:00:00\n"
     ]
    }
   ],
   "source": [
    "end = start + delta\n",
    "print end"
   ]
  },
  {
   "cell_type": "code",
   "execution_count": 33,
   "metadata": {
    "collapsed": false
   },
   "outputs": [
    {
     "name": "stdout",
     "output_type": "stream",
     "text": [
      "3840\n"
     ]
    },
    {
     "data": {
      "text/html": [
       "<div>\n",
       "<table border=\"1\" class=\"dataframe\">\n",
       "  <thead>\n",
       "    <tr style=\"text-align: right;\">\n",
       "      <th></th>\n",
       "      <th>FX</th>\n",
       "      <th>QSSJ</th>\n",
       "      <th>SBBH</th>\n",
       "      <th>ZHLL</th>\n",
       "      <th>SBDM</th>\n",
       "      <th>SBMC</th>\n",
       "    </tr>\n",
       "  </thead>\n",
       "  <tbody>\n",
       "    <tr>\n",
       "      <th>120</th>\n",
       "      <td>1</td>\n",
       "      <td>2015-07-01 00:30:00</td>\n",
       "      <td>26</td>\n",
       "      <td>2</td>\n",
       "      <td>26</td>\n",
       "      <td>人民大道</td>\n",
       "    </tr>\n",
       "    <tr>\n",
       "      <th>121</th>\n",
       "      <td>2</td>\n",
       "      <td>2015-07-01 00:30:00</td>\n",
       "      <td>26</td>\n",
       "      <td>2</td>\n",
       "      <td>26</td>\n",
       "      <td>人民大道</td>\n",
       "    </tr>\n",
       "    <tr>\n",
       "      <th>122</th>\n",
       "      <td>1</td>\n",
       "      <td>2015-07-01 00:30:30</td>\n",
       "      <td>26</td>\n",
       "      <td>1</td>\n",
       "      <td>26</td>\n",
       "      <td>人民大道</td>\n",
       "    </tr>\n",
       "    <tr>\n",
       "      <th>123</th>\n",
       "      <td>2</td>\n",
       "      <td>2015-07-01 00:30:30</td>\n",
       "      <td>26</td>\n",
       "      <td>4</td>\n",
       "      <td>26</td>\n",
       "      <td>人民大道</td>\n",
       "    </tr>\n",
       "    <tr>\n",
       "      <th>124</th>\n",
       "      <td>1</td>\n",
       "      <td>2015-07-01 00:31:00</td>\n",
       "      <td>26</td>\n",
       "      <td>2</td>\n",
       "      <td>26</td>\n",
       "      <td>人民大道</td>\n",
       "    </tr>\n",
       "  </tbody>\n",
       "</table>\n",
       "</div>"
      ],
      "text/plain": [
       "     FX                QSSJ  SBBH  ZHLL  SBDM  SBMC\n",
       "120   1 2015-07-01 00:30:00    26     2    26  人民大道\n",
       "121   2 2015-07-01 00:30:00    26     2    26  人民大道\n",
       "122   1 2015-07-01 00:30:30    26     1    26  人民大道\n",
       "123   2 2015-07-01 00:30:30    26     4    26  人民大道\n",
       "124   1 2015-07-01 00:31:00    26     2    26  人民大道"
      ]
     },
     "execution_count": 33,
     "metadata": {},
     "output_type": "execute_result"
    }
   ],
   "source": [
    "filtered = merged[(merged['QSSJ']>=start) & (merged['QSSJ']<end)]\n",
    "print len(filtered)\n",
    "filtered.head()"
   ]
  },
  {
   "cell_type": "code",
   "execution_count": 41,
   "metadata": {
    "collapsed": false
   },
   "outputs": [
    {
     "name": "stdout",
     "output_type": "stream",
     "text": [
      "Int64Index([     0,      1,      2,      3,      4,      5,      6,      7,\n",
      "                 8,      9, \n",
      "            ...\n",
      "            184116, 184117, 184118, 184119, 184120, 184121, 184122, 184123,\n",
      "            184124, 184125],\n",
      "           dtype='int64', length=184126)\n",
      "DatetimeIndex(['2015-07-01 00:00:00', '2015-07-01 00:00:00',\n",
      "               '2015-07-01 00:00:30', '2015-07-01 00:00:30',\n",
      "               '2015-07-01 00:01:00', '2015-07-01 00:01:00',\n",
      "               '2015-07-01 00:01:30', '2015-07-01 00:01:30',\n",
      "               '2015-07-01 00:02:00', '2015-07-01 00:02:00', \n",
      "               ...\n",
      "               '2015-07-01 23:57:30', '2015-07-01 23:57:30',\n",
      "               '2015-07-01 23:58:00', '2015-07-01 23:58:00',\n",
      "               '2015-07-01 23:58:30', '2015-07-01 23:58:30',\n",
      "               '2015-07-01 23:59:00', '2015-07-01 23:59:00',\n",
      "               '2015-07-01 23:59:30', '2015-07-01 23:59:30'],\n",
      "              dtype='datetime64[ns]', length=184126, freq=None, tz=None)\n"
     ]
    }
   ],
   "source": [
    "print merged.index\n",
    "merged.set_index(pd.DatetimeIndex(merged['QSSJ']),inplace=True)\n",
    "print merged.index"
   ]
  },
  {
   "cell_type": "code",
   "execution_count": 44,
   "metadata": {
    "collapsed": false
   },
   "outputs": [
    {
     "name": "stdout",
     "output_type": "stream",
     "text": [
      "3840\n"
     ]
    },
    {
     "data": {
      "text/html": [
       "<div>\n",
       "<table border=\"1\" class=\"dataframe\">\n",
       "  <thead>\n",
       "    <tr style=\"text-align: right;\">\n",
       "      <th></th>\n",
       "      <th>FX</th>\n",
       "      <th>QSSJ</th>\n",
       "      <th>SBBH</th>\n",
       "      <th>ZHLL</th>\n",
       "      <th>SBDM</th>\n",
       "      <th>SBMC</th>\n",
       "    </tr>\n",
       "  </thead>\n",
       "  <tbody>\n",
       "    <tr>\n",
       "      <th>2015-07-01 00:30:00</th>\n",
       "      <td>1</td>\n",
       "      <td>2015-07-01 00:30:00</td>\n",
       "      <td>26</td>\n",
       "      <td>2</td>\n",
       "      <td>26</td>\n",
       "      <td>人民大道</td>\n",
       "    </tr>\n",
       "    <tr>\n",
       "      <th>2015-07-01 00:30:00</th>\n",
       "      <td>2</td>\n",
       "      <td>2015-07-01 00:30:00</td>\n",
       "      <td>26</td>\n",
       "      <td>2</td>\n",
       "      <td>26</td>\n",
       "      <td>人民大道</td>\n",
       "    </tr>\n",
       "    <tr>\n",
       "      <th>2015-07-01 00:30:30</th>\n",
       "      <td>1</td>\n",
       "      <td>2015-07-01 00:30:30</td>\n",
       "      <td>26</td>\n",
       "      <td>1</td>\n",
       "      <td>26</td>\n",
       "      <td>人民大道</td>\n",
       "    </tr>\n",
       "    <tr>\n",
       "      <th>2015-07-01 00:30:30</th>\n",
       "      <td>2</td>\n",
       "      <td>2015-07-01 00:30:30</td>\n",
       "      <td>26</td>\n",
       "      <td>4</td>\n",
       "      <td>26</td>\n",
       "      <td>人民大道</td>\n",
       "    </tr>\n",
       "    <tr>\n",
       "      <th>2015-07-01 00:31:00</th>\n",
       "      <td>1</td>\n",
       "      <td>2015-07-01 00:31:00</td>\n",
       "      <td>26</td>\n",
       "      <td>2</td>\n",
       "      <td>26</td>\n",
       "      <td>人民大道</td>\n",
       "    </tr>\n",
       "  </tbody>\n",
       "</table>\n",
       "</div>"
      ],
      "text/plain": [
       "                     FX                QSSJ  SBBH  ZHLL  SBDM  SBMC\n",
       "2015-07-01 00:30:00   1 2015-07-01 00:30:00    26     2    26  人民大道\n",
       "2015-07-01 00:30:00   2 2015-07-01 00:30:00    26     2    26  人民大道\n",
       "2015-07-01 00:30:30   1 2015-07-01 00:30:30    26     1    26  人民大道\n",
       "2015-07-01 00:30:30   2 2015-07-01 00:30:30    26     4    26  人民大道\n",
       "2015-07-01 00:31:00   1 2015-07-01 00:31:00    26     2    26  人民大道"
      ]
     },
     "execution_count": 44,
     "metadata": {},
     "output_type": "execute_result"
    }
   ],
   "source": [
    "filtered = merged.between_time(start_time=start,end_time=end,include_end=False)\n",
    "print len(filtered)\n",
    "filtered.head()"
   ]
  },
  {
   "cell_type": "code",
   "execution_count": 53,
   "metadata": {
    "collapsed": false
   },
   "outputs": [
    {
     "data": {
      "text/html": [
       "<div>\n",
       "<table border=\"1\" class=\"dataframe\">\n",
       "  <thead>\n",
       "    <tr style=\"text-align: right;\">\n",
       "      <th></th>\n",
       "      <th></th>\n",
       "      <th></th>\n",
       "      <th>SBBH</th>\n",
       "      <th>ZHLL</th>\n",
       "    </tr>\n",
       "    <tr>\n",
       "      <th>SBMC</th>\n",
       "      <th>SBDM</th>\n",
       "      <th>FX</th>\n",
       "      <th></th>\n",
       "      <th></th>\n",
       "    </tr>\n",
       "  </thead>\n",
       "  <tbody>\n",
       "    <tr>\n",
       "      <th rowspan=\"8\" valign=\"top\">亭桥南路</th>\n",
       "      <th rowspan=\"2\" valign=\"top\">19</th>\n",
       "      <th>1</th>\n",
       "      <td>19</td>\n",
       "      <td>3.566667</td>\n",
       "    </tr>\n",
       "    <tr>\n",
       "      <th>2</th>\n",
       "      <td>19</td>\n",
       "      <td>3.550000</td>\n",
       "    </tr>\n",
       "    <tr>\n",
       "      <th rowspan=\"2\" valign=\"top\">20</th>\n",
       "      <th>1</th>\n",
       "      <td>20</td>\n",
       "      <td>4.083333</td>\n",
       "    </tr>\n",
       "    <tr>\n",
       "      <th>2</th>\n",
       "      <td>20</td>\n",
       "      <td>3.216667</td>\n",
       "    </tr>\n",
       "    <tr>\n",
       "      <th rowspan=\"2\" valign=\"top\">21</th>\n",
       "      <th>1</th>\n",
       "      <td>21</td>\n",
       "      <td>3.283333</td>\n",
       "    </tr>\n",
       "    <tr>\n",
       "      <th>2</th>\n",
       "      <td>21</td>\n",
       "      <td>3.666667</td>\n",
       "    </tr>\n",
       "    <tr>\n",
       "      <th rowspan=\"2\" valign=\"top\">22</th>\n",
       "      <th>1</th>\n",
       "      <td>22</td>\n",
       "      <td>3.116667</td>\n",
       "    </tr>\n",
       "    <tr>\n",
       "      <th>2</th>\n",
       "      <td>22</td>\n",
       "      <td>3.233333</td>\n",
       "    </tr>\n",
       "    <tr>\n",
       "      <th rowspan=\"6\" valign=\"top\">人民大道</th>\n",
       "      <th rowspan=\"2\" valign=\"top\">24</th>\n",
       "      <th>1</th>\n",
       "      <td>24</td>\n",
       "      <td>0.383333</td>\n",
       "    </tr>\n",
       "    <tr>\n",
       "      <th>2</th>\n",
       "      <td>24</td>\n",
       "      <td>0.616667</td>\n",
       "    </tr>\n",
       "    <tr>\n",
       "      <th rowspan=\"2\" valign=\"top\">25</th>\n",
       "      <th>1</th>\n",
       "      <td>25</td>\n",
       "      <td>1.300000</td>\n",
       "    </tr>\n",
       "    <tr>\n",
       "      <th>2</th>\n",
       "      <td>25</td>\n",
       "      <td>1.283333</td>\n",
       "    </tr>\n",
       "    <tr>\n",
       "      <th rowspan=\"2\" valign=\"top\">26</th>\n",
       "      <th>1</th>\n",
       "      <td>26</td>\n",
       "      <td>1.383333</td>\n",
       "    </tr>\n",
       "    <tr>\n",
       "      <th>2</th>\n",
       "      <td>26</td>\n",
       "      <td>2.050000</td>\n",
       "    </tr>\n",
       "    <tr>\n",
       "      <th rowspan=\"4\" valign=\"top\">体育北路</th>\n",
       "      <th rowspan=\"2\" valign=\"top\">8</th>\n",
       "      <th>1</th>\n",
       "      <td>8</td>\n",
       "      <td>0.000000</td>\n",
       "    </tr>\n",
       "    <tr>\n",
       "      <th>2</th>\n",
       "      <td>8</td>\n",
       "      <td>0.000000</td>\n",
       "    </tr>\n",
       "    <tr>\n",
       "      <th rowspan=\"2\" valign=\"top\">9</th>\n",
       "      <th>1</th>\n",
       "      <td>9</td>\n",
       "      <td>7.416667</td>\n",
       "    </tr>\n",
       "    <tr>\n",
       "      <th>2</th>\n",
       "      <td>9</td>\n",
       "      <td>3.150000</td>\n",
       "    </tr>\n",
       "    <tr>\n",
       "      <th rowspan=\"6\" valign=\"top\">体育南路</th>\n",
       "      <th rowspan=\"2\" valign=\"top\">10</th>\n",
       "      <th>1</th>\n",
       "      <td>10</td>\n",
       "      <td>5.833333</td>\n",
       "    </tr>\n",
       "    <tr>\n",
       "      <th>2</th>\n",
       "      <td>10</td>\n",
       "      <td>5.866667</td>\n",
       "    </tr>\n",
       "    <tr>\n",
       "      <th rowspan=\"2\" valign=\"top\">11</th>\n",
       "      <th>1</th>\n",
       "      <td>11</td>\n",
       "      <td>5.466667</td>\n",
       "    </tr>\n",
       "    <tr>\n",
       "      <th>2</th>\n",
       "      <td>11</td>\n",
       "      <td>5.600000</td>\n",
       "    </tr>\n",
       "    <tr>\n",
       "      <th rowspan=\"2\" valign=\"top\">12</th>\n",
       "      <th>1</th>\n",
       "      <td>12</td>\n",
       "      <td>3.833333</td>\n",
       "    </tr>\n",
       "    <tr>\n",
       "      <th>2</th>\n",
       "      <td>12</td>\n",
       "      <td>1.533333</td>\n",
       "    </tr>\n",
       "    <tr>\n",
       "      <th rowspan=\"2\" valign=\"top\">兴善大道</th>\n",
       "      <th rowspan=\"2\" valign=\"top\">13</th>\n",
       "      <th>1</th>\n",
       "      <td>13</td>\n",
       "      <td>4.600000</td>\n",
       "    </tr>\n",
       "    <tr>\n",
       "      <th>2</th>\n",
       "      <td>13</td>\n",
       "      <td>4.083333</td>\n",
       "    </tr>\n",
       "    <tr>\n",
       "      <th rowspan=\"2\" valign=\"top\">施家南路</th>\n",
       "      <th rowspan=\"2\" valign=\"top\">2</th>\n",
       "      <th>1</th>\n",
       "      <td>2</td>\n",
       "      <td>3.283333</td>\n",
       "    </tr>\n",
       "    <tr>\n",
       "      <th>2</th>\n",
       "      <td>2</td>\n",
       "      <td>3.383333</td>\n",
       "    </tr>\n",
       "    <tr>\n",
       "      <th rowspan=\"2\" valign=\"top\">晋阳东路</th>\n",
       "      <th rowspan=\"2\" valign=\"top\">16</th>\n",
       "      <th>1</th>\n",
       "      <td>16</td>\n",
       "      <td>3.050000</td>\n",
       "    </tr>\n",
       "    <tr>\n",
       "      <th>2</th>\n",
       "      <td>16</td>\n",
       "      <td>2.950000</td>\n",
       "    </tr>\n",
       "    <tr>\n",
       "      <th>...</th>\n",
       "      <th>...</th>\n",
       "      <th>...</th>\n",
       "      <td>...</td>\n",
       "      <td>...</td>\n",
       "    </tr>\n",
       "    <tr>\n",
       "      <th rowspan=\"4\" valign=\"top\">晋阳西路</th>\n",
       "      <th rowspan=\"2\" valign=\"top\">14</th>\n",
       "      <th>1</th>\n",
       "      <td>14</td>\n",
       "      <td>0.650000</td>\n",
       "    </tr>\n",
       "    <tr>\n",
       "      <th>2</th>\n",
       "      <td>14</td>\n",
       "      <td>0.000000</td>\n",
       "    </tr>\n",
       "    <tr>\n",
       "      <th rowspan=\"2\" valign=\"top\">15</th>\n",
       "      <th>1</th>\n",
       "      <td>15</td>\n",
       "      <td>2.266667</td>\n",
       "    </tr>\n",
       "    <tr>\n",
       "      <th>2</th>\n",
       "      <td>15</td>\n",
       "      <td>2.500000</td>\n",
       "    </tr>\n",
       "    <tr>\n",
       "      <th rowspan=\"6\" valign=\"top\">环北东路</th>\n",
       "      <th rowspan=\"2\" valign=\"top\">27</th>\n",
       "      <th>1</th>\n",
       "      <td>27</td>\n",
       "      <td>4.666667</td>\n",
       "    </tr>\n",
       "    <tr>\n",
       "      <th>2</th>\n",
       "      <td>27</td>\n",
       "      <td>4.500000</td>\n",
       "    </tr>\n",
       "    <tr>\n",
       "      <th rowspan=\"2\" valign=\"top\">28</th>\n",
       "      <th>1</th>\n",
       "      <td>28</td>\n",
       "      <td>3.983333</td>\n",
       "    </tr>\n",
       "    <tr>\n",
       "      <th>2</th>\n",
       "      <td>28</td>\n",
       "      <td>5.433333</td>\n",
       "    </tr>\n",
       "    <tr>\n",
       "      <th rowspan=\"2\" valign=\"top\">31</th>\n",
       "      <th>1</th>\n",
       "      <td>31</td>\n",
       "      <td>3.833333</td>\n",
       "    </tr>\n",
       "    <tr>\n",
       "      <th>2</th>\n",
       "      <td>31</td>\n",
       "      <td>3.333333</td>\n",
       "    </tr>\n",
       "    <tr>\n",
       "      <th rowspan=\"4\" valign=\"top\">环北西路</th>\n",
       "      <th rowspan=\"2\" valign=\"top\">29</th>\n",
       "      <th>1</th>\n",
       "      <td>29</td>\n",
       "      <td>3.566667</td>\n",
       "    </tr>\n",
       "    <tr>\n",
       "      <th>2</th>\n",
       "      <td>29</td>\n",
       "      <td>4.600000</td>\n",
       "    </tr>\n",
       "    <tr>\n",
       "      <th rowspan=\"2\" valign=\"top\">30</th>\n",
       "      <th>1</th>\n",
       "      <td>30</td>\n",
       "      <td>3.283333</td>\n",
       "    </tr>\n",
       "    <tr>\n",
       "      <th>2</th>\n",
       "      <td>30</td>\n",
       "      <td>4.316667</td>\n",
       "    </tr>\n",
       "    <tr>\n",
       "      <th rowspan=\"6\" valign=\"top\">解放东路</th>\n",
       "      <th rowspan=\"2\" valign=\"top\">32</th>\n",
       "      <th>1</th>\n",
       "      <td>32</td>\n",
       "      <td>3.416667</td>\n",
       "    </tr>\n",
       "    <tr>\n",
       "      <th>2</th>\n",
       "      <td>32</td>\n",
       "      <td>3.050000</td>\n",
       "    </tr>\n",
       "    <tr>\n",
       "      <th rowspan=\"2\" valign=\"top\">33</th>\n",
       "      <th>1</th>\n",
       "      <td>33</td>\n",
       "      <td>3.266667</td>\n",
       "    </tr>\n",
       "    <tr>\n",
       "      <th>2</th>\n",
       "      <td>33</td>\n",
       "      <td>2.750000</td>\n",
       "    </tr>\n",
       "    <tr>\n",
       "      <th rowspan=\"2\" valign=\"top\">34</th>\n",
       "      <th>1</th>\n",
       "      <td>34</td>\n",
       "      <td>4.050000</td>\n",
       "    </tr>\n",
       "    <tr>\n",
       "      <th>2</th>\n",
       "      <td>34</td>\n",
       "      <td>3.933333</td>\n",
       "    </tr>\n",
       "    <tr>\n",
       "      <th rowspan=\"4\" valign=\"top\">解放西路</th>\n",
       "      <th rowspan=\"2\" valign=\"top\">35</th>\n",
       "      <th>1</th>\n",
       "      <td>35</td>\n",
       "      <td>3.116667</td>\n",
       "    </tr>\n",
       "    <tr>\n",
       "      <th>2</th>\n",
       "      <td>35</td>\n",
       "      <td>3.433333</td>\n",
       "    </tr>\n",
       "    <tr>\n",
       "      <th rowspan=\"2\" valign=\"top\">36</th>\n",
       "      <th>1</th>\n",
       "      <td>36</td>\n",
       "      <td>3.166667</td>\n",
       "    </tr>\n",
       "    <tr>\n",
       "      <th>2</th>\n",
       "      <td>36</td>\n",
       "      <td>3.750000</td>\n",
       "    </tr>\n",
       "    <tr>\n",
       "      <th rowspan=\"4\" valign=\"top\">谈公北路</th>\n",
       "      <th rowspan=\"2\" valign=\"top\">4</th>\n",
       "      <th>1</th>\n",
       "      <td>4</td>\n",
       "      <td>7.266667</td>\n",
       "    </tr>\n",
       "    <tr>\n",
       "      <th>2</th>\n",
       "      <td>4</td>\n",
       "      <td>6.983333</td>\n",
       "    </tr>\n",
       "    <tr>\n",
       "      <th rowspan=\"2\" valign=\"top\">5</th>\n",
       "      <th>1</th>\n",
       "      <td>5</td>\n",
       "      <td>6.033333</td>\n",
       "    </tr>\n",
       "    <tr>\n",
       "      <th>2</th>\n",
       "      <td>5</td>\n",
       "      <td>5.500000</td>\n",
       "    </tr>\n",
       "    <tr>\n",
       "      <th rowspan=\"2\" valign=\"top\">谈公南路</th>\n",
       "      <th rowspan=\"2\" valign=\"top\">7</th>\n",
       "      <th>1</th>\n",
       "      <td>7</td>\n",
       "      <td>6.466667</td>\n",
       "    </tr>\n",
       "    <tr>\n",
       "      <th>2</th>\n",
       "      <td>7</td>\n",
       "      <td>5.183333</td>\n",
       "    </tr>\n",
       "  </tbody>\n",
       "</table>\n",
       "<p>64 rows × 2 columns</p>\n",
       "</div>"
      ],
      "text/plain": [
       "              SBBH      ZHLL\n",
       "SBMC SBDM FX                \n",
       "亭桥南路 19   1     19  3.566667\n",
       "          2     19  3.550000\n",
       "     20   1     20  4.083333\n",
       "          2     20  3.216667\n",
       "     21   1     21  3.283333\n",
       "          2     21  3.666667\n",
       "     22   1     22  3.116667\n",
       "          2     22  3.233333\n",
       "人民大道 24   1     24  0.383333\n",
       "          2     24  0.616667\n",
       "     25   1     25  1.300000\n",
       "          2     25  1.283333\n",
       "     26   1     26  1.383333\n",
       "          2     26  2.050000\n",
       "体育北路 8    1      8  0.000000\n",
       "          2      8  0.000000\n",
       "     9    1      9  7.416667\n",
       "          2      9  3.150000\n",
       "体育南路 10   1     10  5.833333\n",
       "          2     10  5.866667\n",
       "     11   1     11  5.466667\n",
       "          2     11  5.600000\n",
       "     12   1     12  3.833333\n",
       "          2     12  1.533333\n",
       "兴善大道 13   1     13  4.600000\n",
       "          2     13  4.083333\n",
       "施家南路 2    1      2  3.283333\n",
       "          2      2  3.383333\n",
       "晋阳东路 16   1     16  3.050000\n",
       "          2     16  2.950000\n",
       "...            ...       ...\n",
       "晋阳西路 14   1     14  0.650000\n",
       "          2     14  0.000000\n",
       "     15   1     15  2.266667\n",
       "          2     15  2.500000\n",
       "环北东路 27   1     27  4.666667\n",
       "          2     27  4.500000\n",
       "     28   1     28  3.983333\n",
       "          2     28  5.433333\n",
       "     31   1     31  3.833333\n",
       "          2     31  3.333333\n",
       "环北西路 29   1     29  3.566667\n",
       "          2     29  4.600000\n",
       "     30   1     30  3.283333\n",
       "          2     30  4.316667\n",
       "解放东路 32   1     32  3.416667\n",
       "          2     32  3.050000\n",
       "     33   1     33  3.266667\n",
       "          2     33  2.750000\n",
       "     34   1     34  4.050000\n",
       "          2     34  3.933333\n",
       "解放西路 35   1     35  3.116667\n",
       "          2     35  3.433333\n",
       "     36   1     36  3.166667\n",
       "          2     36  3.750000\n",
       "谈公北路 4    1      4  7.266667\n",
       "          2      4  6.983333\n",
       "     5    1      5  6.033333\n",
       "          2      5  5.500000\n",
       "谈公南路 7    1      7  6.466667\n",
       "          2      7  5.183333\n",
       "\n",
       "[64 rows x 2 columns]"
      ]
     },
     "execution_count": 53,
     "metadata": {},
     "output_type": "execute_result"
    }
   ],
   "source": [
    "result = filtered.groupby([filtered['SBMC'],filtered['SBDM'],filtered['FX']]).mean()\n",
    "type(result)\n",
    "result"
   ]
  },
  {
   "cell_type": "code",
   "execution_count": 60,
   "metadata": {
    "collapsed": false
   },
   "outputs": [],
   "source": [
    "grouped = filtered.groupby([filtered['SBMC'],filtered['SBDM'],filtered['FX']])"
   ]
  },
  {
   "cell_type": "code",
   "execution_count": 64,
   "metadata": {
    "collapsed": false
   },
   "outputs": [
    {
     "name": "stdout",
     "output_type": "stream",
     "text": [
      "(u'\\u4ead\\u6865\\u5357\\u8def', 19, 1) 3.56666666667\n",
      "(u'\\u4ead\\u6865\\u5357\\u8def', 19, 2) 3.55\n",
      "(u'\\u4ead\\u6865\\u5357\\u8def', 20, 1) 4.08333333333\n",
      "(u'\\u4ead\\u6865\\u5357\\u8def', 20, 2) 3.21666666667\n",
      "(u'\\u4ead\\u6865\\u5357\\u8def', 21, 1) 3.28333333333\n",
      "(u'\\u4ead\\u6865\\u5357\\u8def', 21, 2) 3.66666666667\n",
      "(u'\\u4ead\\u6865\\u5357\\u8def', 22, 1) 3.11666666667\n",
      "(u'\\u4ead\\u6865\\u5357\\u8def', 22, 2) 3.23333333333\n",
      "(u'\\u4eba\\u6c11\\u5927\\u9053', 24, 1) 0.383333333333\n",
      "(u'\\u4eba\\u6c11\\u5927\\u9053', 24, 2) 0.616666666667\n",
      "(u'\\u4eba\\u6c11\\u5927\\u9053', 25, 1) 1.3\n",
      "(u'\\u4eba\\u6c11\\u5927\\u9053', 25, 2) 1.28333333333\n",
      "(u'\\u4eba\\u6c11\\u5927\\u9053', 26, 1) 1.38333333333\n",
      "(u'\\u4eba\\u6c11\\u5927\\u9053', 26, 2) 2.05\n",
      "(u'\\u4f53\\u80b2\\u5317\\u8def', 8, 1) 0.0\n",
      "(u'\\u4f53\\u80b2\\u5317\\u8def', 8, 2) 0.0\n",
      "(u'\\u4f53\\u80b2\\u5317\\u8def', 9, 1) 7.41666666667\n",
      "(u'\\u4f53\\u80b2\\u5317\\u8def', 9, 2) 3.15\n",
      "(u'\\u4f53\\u80b2\\u5357\\u8def', 10, 1) 5.83333333333\n",
      "(u'\\u4f53\\u80b2\\u5357\\u8def', 10, 2) 5.86666666667\n",
      "(u'\\u4f53\\u80b2\\u5357\\u8def', 11, 1) 5.46666666667\n",
      "(u'\\u4f53\\u80b2\\u5357\\u8def', 11, 2) 5.6\n",
      "(u'\\u4f53\\u80b2\\u5357\\u8def', 12, 1) 3.83333333333\n",
      "(u'\\u4f53\\u80b2\\u5357\\u8def', 12, 2) 1.53333333333\n",
      "(u'\\u5174\\u5584\\u5927\\u9053', 13, 1) 4.6\n",
      "(u'\\u5174\\u5584\\u5927\\u9053', 13, 2) 4.08333333333\n",
      "(u'\\u65bd\\u5bb6\\u5357\\u8def', 2, 1) 3.28333333333\n",
      "(u'\\u65bd\\u5bb6\\u5357\\u8def', 2, 2) 3.38333333333\n",
      "(u'\\u664b\\u9633\\u4e1c\\u8def', 16, 1) 3.05\n",
      "(u'\\u664b\\u9633\\u4e1c\\u8def', 16, 2) 2.95\n",
      "(u'\\u664b\\u9633\\u4e1c\\u8def', 17, 1) 3.35\n",
      "(u'\\u664b\\u9633\\u4e1c\\u8def', 17, 2) 2.25\n",
      "(u'\\u664b\\u9633\\u4e1c\\u8def', 18, 1) 0.0\n",
      "(u'\\u664b\\u9633\\u4e1c\\u8def', 18, 2) 0.0\n",
      "(u'\\u664b\\u9633\\u897f\\u8def', 14, 1) 0.65\n",
      "(u'\\u664b\\u9633\\u897f\\u8def', 14, 2) 0.0\n",
      "(u'\\u664b\\u9633\\u897f\\u8def', 15, 1) 2.26666666667\n",
      "(u'\\u664b\\u9633\\u897f\\u8def', 15, 2) 2.5\n",
      "(u'\\u73af\\u5317\\u4e1c\\u8def', 27, 1) 4.66666666667\n",
      "(u'\\u73af\\u5317\\u4e1c\\u8def', 27, 2) 4.5\n",
      "(u'\\u73af\\u5317\\u4e1c\\u8def', 28, 1) 3.98333333333\n",
      "(u'\\u73af\\u5317\\u4e1c\\u8def', 28, 2) 5.43333333333\n",
      "(u'\\u73af\\u5317\\u4e1c\\u8def', 31, 1) 3.83333333333\n",
      "(u'\\u73af\\u5317\\u4e1c\\u8def', 31, 2) 3.33333333333\n",
      "(u'\\u73af\\u5317\\u897f\\u8def', 29, 1) 3.56666666667\n",
      "(u'\\u73af\\u5317\\u897f\\u8def', 29, 2) 4.6\n",
      "(u'\\u73af\\u5317\\u897f\\u8def', 30, 1) 3.28333333333\n",
      "(u'\\u73af\\u5317\\u897f\\u8def', 30, 2) 4.31666666667\n",
      "(u'\\u89e3\\u653e\\u4e1c\\u8def', 32, 1) 3.41666666667\n",
      "(u'\\u89e3\\u653e\\u4e1c\\u8def', 32, 2) 3.05\n",
      "(u'\\u89e3\\u653e\\u4e1c\\u8def', 33, 1) 3.26666666667\n",
      "(u'\\u89e3\\u653e\\u4e1c\\u8def', 33, 2) 2.75\n",
      "(u'\\u89e3\\u653e\\u4e1c\\u8def', 34, 1) 4.05\n",
      "(u'\\u89e3\\u653e\\u4e1c\\u8def', 34, 2) 3.93333333333\n",
      "(u'\\u89e3\\u653e\\u897f\\u8def', 35, 1) 3.11666666667\n",
      "(u'\\u89e3\\u653e\\u897f\\u8def', 35, 2) 3.43333333333\n",
      "(u'\\u89e3\\u653e\\u897f\\u8def', 36, 1) 3.16666666667\n",
      "(u'\\u89e3\\u653e\\u897f\\u8def', 36, 2) 3.75\n",
      "(u'\\u8c08\\u516c\\u5317\\u8def', 4, 1) 7.26666666667\n",
      "(u'\\u8c08\\u516c\\u5317\\u8def', 4, 2) 6.98333333333\n",
      "(u'\\u8c08\\u516c\\u5317\\u8def', 5, 1) 6.03333333333\n",
      "(u'\\u8c08\\u516c\\u5317\\u8def', 5, 2) 5.5\n",
      "(u'\\u8c08\\u516c\\u5357\\u8def', 7, 1) 6.46666666667\n",
      "(u'\\u8c08\\u516c\\u5357\\u8def', 7, 2) 5.18333333333\n"
     ]
    }
   ],
   "source": [
    "for (name,group) in grouped:\n",
    "#     print name, group\n",
    "    print name, group['ZHLL'].mean()"
   ]
  },
  {
   "cell_type": "code",
   "execution_count": null,
   "metadata": {
    "collapsed": true
   },
   "outputs": [],
   "source": []
  }
 ],
 "metadata": {
  "kernelspec": {
   "display_name": "Python 2",
   "language": "python",
   "name": "python2"
  },
  "language_info": {
   "codemirror_mode": {
    "name": "ipython",
    "version": 2
   },
   "file_extension": ".py",
   "mimetype": "text/x-python",
   "name": "python",
   "nbconvert_exporter": "python",
   "pygments_lexer": "ipython2",
   "version": "2.7.11"
  }
 },
 "nbformat": 4,
 "nbformat_minor": 0
}
