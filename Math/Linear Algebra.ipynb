{
 "cells": [
  {
   "cell_type": "code",
   "execution_count": 2,
   "metadata": {
    "collapsed": true
   },
   "outputs": [],
   "source": [
    "import numpy as np\n",
    "import matplotlib.pyplot as plt"
   ]
  },
  {
   "cell_type": "code",
   "execution_count": 6,
   "metadata": {
    "collapsed": false
   },
   "outputs": [
    {
     "data": {
      "image/png": "[encoded data removed]",
      "text/plain": [
       "<matplotlib.figure.Figure at 0x6dd7f28>"
      ]
     },
     "metadata": {},
     "output_type": "display_data"
    }
   ],
   "source": [
    "X = np.linspace(-np.pi, np.pi, 256, endpoint=True)\n",
    "C,S = np.cos(X), np.sin(X)\n",
    "plt.xlim(-5,5)\n",
    "plt.ylim(-5,5)\n",
    "plt.plot(X,C)\n",
    "plt.plot(X,S)\n",
    "\n",
    "plt.show()"
   ]
  },
  {
   "cell_type": "code",
   "execution_count": 22,
   "metadata": {
    "collapsed": false
   },
   "outputs": [
    {
     "data": {
      "image/png": "[encoded data removed]",
      "text/plain": [
       "<matplotlib.figure.Figure at 0x80c6c18>"
      ]
     },
     "metadata": {},
     "output_type": "display_data"
    }
   ],
   "source": [
    "ax = plt.axes()\n",
    "\n",
    "# draw grid\n",
    "ax.axis('equal')\n",
    "ax.set_xlim(-5,5)\n",
    "ax.set_ylim(-5,5)\n",
    "ax.xaxis.set_major_locator(plt.MultipleLocator(1.0))\n",
    "ax.xaxis.set_minor_locator(plt.MultipleLocator(0.2))\n",
    "ax.yaxis.set_major_locator(plt.MultipleLocator(1.0))\n",
    "ax.yaxis.set_minor_locator(plt.MultipleLocator(0.2))\n",
    "ax.grid(which='major', axis='x', linewidth=0.75, linestyle='-', color='0.75')\n",
    "ax.grid(which='minor', axis='x', linewidth=0.25, linestyle='-', color='0.75')\n",
    "ax.grid(which='major', axis='y', linewidth=0.75, linestyle='-', color='0.75')\n",
    "ax.grid(which='minor', axis='y', linewidth=0.25, linestyle='-', color='0.75')\n",
    "# ax.set_xticklabels([])\n",
    "# ax.set_yticklabels([])\n",
    "\n",
    "# draw vector\n",
    "origin=np.array([0,0])\n",
    "target1=np.array([1,2])\n",
    "ax.arrow(origin[0],origin[1],target1[0],target1[1], head_width=0.1, head_length=0.1, fc='k', ec='k')\n",
    "rotMat = np.array([[0,-1],[1,0]])\n",
    "\n",
    "\n",
    "plt.show()"
   ]
  },
  {
   "cell_type": "code",
   "execution_count": 3,
   "metadata": {
    "collapsed": false
   },
   "outputs": [
    {
     "data": {
      "text/plain": [
       "array([-2,  2])"
      ]
     },
     "execution_count": 3,
     "metadata": {},
     "output_type": "execute_result"
    }
   ],
   "source": [
    "A=np.array([[0,-1],[1,0]])\n",
    "v=np.array([2,2])\n",
    "A.dot(v)"
   ]
  },
  {
   "cell_type": "code",
   "execution_count": 7,
   "metadata": {
    "collapsed": false
   },
   "outputs": [
    {
     "data": {
      "text/plain": [
       "array([5, 4, 1])"
      ]
     },
     "execution_count": 7,
     "metadata": {},
     "output_type": "execute_result"
    }
   ],
   "source": [
    "# homogeneous matrix\n",
    "A=np.array([[1,0,3],[0,1,2],[0,0,1]])\n",
    "v=np.array([2,2,1])\n",
    "A.dot(v)"
   ]
  },
  {
   "cell_type": "code",
   "execution_count": 15,
   "metadata": {
    "collapsed": false
   },
   "outputs": [
    {
     "name": "stdout",
     "output_type": "stream",
     "text": [
      "[ 4.  3.  1.]\n",
      "[-3.  4.  1.]\n"
     ]
    }
   ],
   "source": [
    "# combine RTv\n",
    "T=np.array([[1,0,3],[0,1,2],[0,0,1]],dtype=float)\n",
    "R=np.array([[0,-1,0],[1,0,0],[0,0,1]],dtype=float)\n",
    "v=np.array([1,1,1],dtype=float)\n",
    "temp=T.dot(v)\n",
    "print(temp)\n",
    "print(R.dot(temp))"
   ]
  },
  {
   "cell_type": "code",
   "execution_count": 14,
   "metadata": {
    "collapsed": false
   },
   "outputs": [
    {
     "name": "stdout",
     "output_type": "stream",
     "text": [
      "[-1.  1.  1.]\n",
      "[ 2.  3.  1.]\n"
     ]
    }
   ],
   "source": [
    "# combine TRv\n",
    "T=np.array([[1,0,3],[0,1,2],[0,0,1]],dtype=float)\n",
    "R=np.array([[0,-1,0],[1,0,0],[0,0,1]],dtype=float)\n",
    "v=np.array([1,1,1],dtype=float)\n",
    "temp=R.dot(v)\n",
    "print(temp)\n",
    "print(T.dot(temp))"
   ]
  },
  {
   "cell_type": "code",
   "execution_count": null,
   "metadata": {
    "collapsed": true
   },
   "outputs": [],
   "source": []
  }
 ],
 "metadata": {
  "anaconda-cloud": {},
  "kernelspec": {
   "display_name": "Python [default]",
   "language": "python",
   "name": "python2"
  },
  "language_info": {
   "codemirror_mode": {
    "name": "ipython",
    "version": 2
   },
   "file_extension": ".py",
   "mimetype": "text/x-python",
   "name": "python",
   "nbconvert_exporter": "python",
   "pygments_lexer": "ipython2",
   "version": "2.7.12"
  }
 },
 "nbformat": 4,
 "nbformat_minor": 1
}
