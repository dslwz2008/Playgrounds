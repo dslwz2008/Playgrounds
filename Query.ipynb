{
 "cells": [
  {
   "cell_type": "code",
   "execution_count": 1,
   "metadata": {
    "collapsed": true
   },
   "outputs": [],
   "source": [
    "import pymongo"
   ]
  },
  {
   "cell_type": "code",
   "execution_count": 3,
   "metadata": {
    "collapsed": false
   },
   "outputs": [],
   "source": [
    "client = pymongo.MongoClient('127.0.0.1', 27017)\n",
    "db = client['trafficn']"
   ]
  },
  {
   "cell_type": "code",
   "execution_count": 5,
   "metadata": {
    "collapsed": false
   },
   "outputs": [],
   "source": [
    "import datetime\n",
    "qdate = datetime.date(2015,7,1)\n",
    "colName = 'T_TGIS_VEHICLE_GPS_HIS_GPS_HIS%s' % (qdate.strftime('%Y%m%d'))\n",
    "taxiCol = db[colName]"
   ]
  },
  {
   "cell_type": "code",
   "execution_count": 18,
   "metadata": {
    "collapsed": false
   },
   "outputs": [
    {
     "name": "stdout",
     "output_type": "stream",
     "text": [
      "2015-07-01 00:00:00\n",
      "2015-07-01 00:59:59\n"
     ]
    }
   ],
   "source": [
    "dtStart = datetime.datetime(2015, 7, 1, 0, 0, 0)\n",
    "dtEnd = datetime.datetime(2015, 7, 1, 0, 59, 59)\n",
    "print dtStart\n",
    "print dtEnd"
   ]
  },
  {
   "cell_type": "code",
   "execution_count": 23,
   "metadata": {
    "collapsed": true
   },
   "outputs": [],
   "source": [
    "cur = taxiCol.find({'GPS_TIME':{'$gte':dtStart.strftime('%Y/%m/%d %H:%M:%S'),\n",
    "                                '$lt':dtEnd.strftime('%Y/%m/%d %H:%M:%S')}})"
   ]
  },
  {
   "cell_type": "code",
   "execution_count": 28,
   "metadata": {
    "collapsed": false
   },
   "outputs": [
    {
     "name": "stdout",
     "output_type": "stream",
     "text": [
      "33375\n",
      "{}\n",
      "[]\n"
     ]
    }
   ],
   "source": [
    "print cur.count()\n",
    "taxiDict = {}\n",
    "for item in cur:\n",
    "    if item['CPHM'] not in taxiDict:\n",
    "        taxiDict[item['CPHM']]=[]\n",
    "    taxiDict[item['CPHM']].append([item['JD'],item['WD']])\n",
    "# print taxiDict\n",
    "result =[]\n",
    "idx = 1\n",
    "for k,v in taxiDict:\n",
    "    print k,v\n",
    "    taxi = {}\n",
    "    taxi['id'] = idx\n",
    "    taxi['xylist'] = v\n",
    "    result.append(taxi)\n",
    "    idx += 1\n",
    "print result"
   ]
  },
  {
   "cell_type": "code",
   "execution_count": null,
   "metadata": {
    "collapsed": true
   },
   "outputs": [],
   "source": []
  }
 ],
 "metadata": {
  "kernelspec": {
   "display_name": "Python 2",
   "language": "python",
   "name": "python2"
  },
  "language_info": {
   "codemirror_mode": {
    "name": "ipython",
    "version": 2
   },
   "file_extension": ".py",
   "mimetype": "text/x-python",
   "name": "python",
   "nbconvert_exporter": "python",
   "pygments_lexer": "ipython2",
   "version": "2.7.11"
  }
 },
 "nbformat": 4,
 "nbformat_minor": 0
}
