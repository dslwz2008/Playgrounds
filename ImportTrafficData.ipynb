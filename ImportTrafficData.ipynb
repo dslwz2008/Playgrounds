{
 "cells": [
  {
   "cell_type": "code",
   "execution_count": 2,
   "metadata": {
    "collapsed": true
   },
   "outputs": [],
   "source": [
    "import os\n",
    "import os.path\n",
    "import subprocess"
   ]
  },
  {
   "cell_type": "code",
   "execution_count": 8,
   "metadata": {
    "collapsed": false
   },
   "outputs": [
    {
     "name": "stdout",
     "output_type": "stream",
     "text": [
      "D:\\data\\jiatongjudata\\EDW_BUSIMODEL_LS\n",
      "D:/Program Files/MongoDB/Server/3.0/bin/mongoimport --db trafficraw --type csv --headerline --file D:\\data\\jiatongjudata\\EDW_BUSIMODEL_LS\\CL01_CLJCXX.csv\n",
      "D:/Program Files/MongoDB/Server/3.0/bin/mongoimport --db trafficraw --type csv --headerline --file D:\\data\\jiatongjudata\\EDW_BUSIMODEL_LS\\DY50_WXHWDZLDSJ.csv\n"
     ]
    }
   ],
   "source": [
    "%cd D:/data/jiatongjudata/EDW_BUSIMODEL_LS\n",
    "blacklist = ['CLDT_GJCGPSDWXX.csv','DY03_CLGPSLSXX.csv']\n",
    "command = \"D:/Program Files/MongoDB/Server/3.0/bin/mongoimport --db trafficraw --type csv --headerline --file %s\"\n",
    "files = os.listdir(os.getcwd())\n",
    "for f in files:\n",
    "    names = f.split('.')\n",
    "    ext = names[1]\n",
    "    if ext == 'csv' and  f not in blacklist:\n",
    "        print(command % os.path.abspath(f))\n",
    "        subprocess.call(command % os.path.abspath(f))"
   ]
  },
  {
   "cell_type": "code",
   "execution_count": 9,
   "metadata": {
    "collapsed": false
   },
   "outputs": [
    {
     "name": "stdout",
     "output_type": "stream",
     "text": [
      "D:\\data\\jiatongjudata\\EDW_JCSS\n",
      "D:/Program Files/MongoDB/Server/3.0/bin/mongoimport --db trafficraw --type csv --headerline --file D:\\data\\jiatongjudata\\EDW_JCSS\\CS50_GEO_JDSB.csv\n",
      "D:/Program Files/MongoDB/Server/3.0/bin/mongoimport --db trafficraw --type csv --headerline --file D:\\data\\jiatongjudata\\EDW_JCSS\\CS50_GEO_ZXCSS.csv\n",
      "D:/Program Files/MongoDB/Server/3.0/bin/mongoimport --db trafficraw --type csv --headerline --file D:\\data\\jiatongjudata\\EDW_JCSS\\DY50_GEO_QXZ.csv\n",
      "D:/Program Files/MongoDB/Server/3.0/bin/mongoimport --db trafficraw --type csv --headerline --file D:\\data\\jiatongjudata\\EDW_JCSS\\DY50_QX_YS_LS.csv\n",
      "D:/Program Files/MongoDB/Server/3.0/bin/mongoimport --db trafficraw --type csv --headerline --file D:\\data\\jiatongjudata\\EDW_JCSS\\DY50_SP_SSSJ_LS.csv\n",
      "D:/Program Files/MongoDB/Server/3.0/bin/mongoimport --db trafficraw --type csv --headerline --file D:\\data\\jiatongjudata\\EDW_JCSS\\DY50_WB_SSSJ_LS.csv\n",
      "D:/Program Files/MongoDB/Server/3.0/bin/mongoimport --db trafficraw --type csv --headerline --file D:\\data\\jiatongjudata\\EDW_JCSS\\DY50_XQ_SSSJ_LS.csv\n",
      "D:/Program Files/MongoDB/Server/3.0/bin/mongoimport --db trafficraw --type csv --headerline --file D:\\data\\jiatongjudata\\EDW_JCSS\\SY50_GEO_SWZ.csv\n",
      "D:/Program Files/MongoDB/Server/3.0/bin/mongoimport --db trafficraw --type csv --headerline --file D:\\data\\jiatongjudata\\EDW_JCSS\\SY50_SW_LSSJ.csv\n"
     ]
    }
   ],
   "source": [
    "%cd D:/data/jiatongjudata/EDW_JCSS\n",
    "blacklist = []\n",
    "command = \"D:/Program Files/MongoDB/Server/3.0/bin/mongoimport --db trafficraw --type csv --headerline --file %s\"\n",
    "files = os.listdir(os.getcwd())\n",
    "for f in files:\n",
    "    names = f.split('.')\n",
    "    ext = names[1]\n",
    "    if ext == 'csv' and  f not in blacklist:\n",
    "        print(command % os.path.abspath(f))\n",
    "        subprocess.call(command % os.path.abspath(f))"
   ]
  },
  {
   "cell_type": "code",
   "execution_count": 6,
   "metadata": {
    "collapsed": false
   },
   "outputs": [
    {
     "name": "stdout",
     "output_type": "stream",
     "text": [
      "D:\\data\\jiatongjudata\\EDW_VEHICLE\n",
      "D:/Program Files/MongoDB/Server/3.0/bin/mongoimport --db trafficraw --type csv --fieldFile fields.txt --file D:\\data\\jiatongjudata\\EDW_VEHICLE\\T_TGIS_VEHICLE_GPS_HIS_GPS_HIS20150807.csv\n",
      "D:/Program Files/MongoDB/Server/3.0/bin/mongoimport --db trafficraw --type csv --fieldFile fields.txt --file D:\\data\\jiatongjudata\\EDW_VEHICLE\\T_TGIS_VEHICLE_GPS_HIS_GPS_HIS20150808.csv\n",
      "D:/Program Files/MongoDB/Server/3.0/bin/mongoimport --db trafficraw --type csv --fieldFile fields.txt --file D:\\data\\jiatongjudata\\EDW_VEHICLE\\T_TGIS_VEHICLE_GPS_HIS_GPS_HIS20150809.csv\n",
      "D:/Program Files/MongoDB/Server/3.0/bin/mongoimport --db trafficraw --type csv --fieldFile fields.txt --file D:\\data\\jiatongjudata\\EDW_VEHICLE\\T_TGIS_VEHICLE_GPS_HIS_GPS_HIS20150821.csv\n",
      "D:/Program Files/MongoDB/Server/3.0/bin/mongoimport --db trafficraw --type csv --fieldFile fields.txt --file D:\\data\\jiatongjudata\\EDW_VEHICLE\\T_TGIS_VEHICLE_GPS_HIS_GPS_HIS20150822.csv\n",
      "D:/Program Files/MongoDB/Server/3.0/bin/mongoimport --db trafficraw --type csv --fieldFile fields.txt --file D:\\data\\jiatongjudata\\EDW_VEHICLE\\T_TGIS_VEHICLE_GPS_HIS_GPS_HIS20150823.csv\n",
      "D:/Program Files/MongoDB/Server/3.0/bin/mongoimport --db trafficraw --type csv --fieldFile fields.txt --file D:\\data\\jiatongjudata\\EDW_VEHICLE\\T_TGIS_VEHICLE_GPS_HIS_GPS_HIS20150824.csv\n",
      "D:/Program Files/MongoDB/Server/3.0/bin/mongoimport --db trafficraw --type csv --fieldFile fields.txt --file D:\\data\\jiatongjudata\\EDW_VEHICLE\\T_TGIS_VEHICLE_GPS_HIS_GPS_HIS20150825.csv\n",
      "D:/Program Files/MongoDB/Server/3.0/bin/mongoimport --db trafficraw --type csv --fieldFile fields.txt --file D:\\data\\jiatongjudata\\EDW_VEHICLE\\T_TGIS_VEHICLE_GPS_HIS_GPS_HIS20150826.csv\n",
      "D:/Program Files/MongoDB/Server/3.0/bin/mongoimport --db trafficraw --type csv --fieldFile fields.txt --file D:\\data\\jiatongjudata\\EDW_VEHICLE\\T_TGIS_VEHICLE_GPS_HIS_GPS_HIS20150827.csv\n",
      "D:/Program Files/MongoDB/Server/3.0/bin/mongoimport --db trafficraw --type csv --fieldFile fields.txt --file D:\\data\\jiatongjudata\\EDW_VEHICLE\\T_TGIS_VEHICLE_GPS_HIS_GPS_HIS20150828.csv\n",
      "D:/Program Files/MongoDB/Server/3.0/bin/mongoimport --db trafficraw --type csv --fieldFile fields.txt --file D:\\data\\jiatongjudata\\EDW_VEHICLE\\T_TGIS_VEHICLE_GPS_HIS_GPS_HIS20150829.csv\n",
      "D:/Program Files/MongoDB/Server/3.0/bin/mongoimport --db trafficraw --type csv --fieldFile fields.txt --file D:\\data\\jiatongjudata\\EDW_VEHICLE\\T_TGIS_VEHICLE_GPS_HIS_GPS_HIS20150830.csv\n",
      "D:/Program Files/MongoDB/Server/3.0/bin/mongoimport --db trafficraw --type csv --fieldFile fields.txt --file D:\\data\\jiatongjudata\\EDW_VEHICLE\\T_TGIS_VEHICLE_GPS_HIS_GPS_HIS20150831.csv\n",
      "D:/Program Files/MongoDB/Server/3.0/bin/mongoimport --db trafficraw --type csv --fieldFile fields.txt --file D:\\data\\jiatongjudata\\EDW_VEHICLE\\T_TGIS_VEHICLE_GPS_HIS_GPS_HIS20150901.csv\n",
      "D:/Program Files/MongoDB/Server/3.0/bin/mongoimport --db trafficraw --type csv --fieldFile fields.txt --file D:\\data\\jiatongjudata\\EDW_VEHICLE\\T_TGIS_VEHICLE_GPS_HIS_GPS_HIS20150902.csv\n",
      "D:/Program Files/MongoDB/Server/3.0/bin/mongoimport --db trafficraw --type csv --fieldFile fields.txt --file D:\\data\\jiatongjudata\\EDW_VEHICLE\\T_TGIS_VEHICLE_GPS_HIS_GPS_HIS20150903.csv\n",
      "D:/Program Files/MongoDB/Server/3.0/bin/mongoimport --db trafficraw --type csv --fieldFile fields.txt --file D:\\data\\jiatongjudata\\EDW_VEHICLE\\T_TGIS_VEHICLE_GPS_HIS_GPS_HIS20150904.csv\n",
      "D:/Program Files/MongoDB/Server/3.0/bin/mongoimport --db trafficraw --type csv --fieldFile fields.txt --file D:\\data\\jiatongjudata\\EDW_VEHICLE\\T_TGIS_VEHICLE_GPS_HIS_GPS_HIS20150905.csv\n",
      "D:/Program Files/MongoDB/Server/3.0/bin/mongoimport --db trafficraw --type csv --fieldFile fields.txt --file D:\\data\\jiatongjudata\\EDW_VEHICLE\\T_TGIS_VEHICLE_GPS_HIS_GPS_HIS20150906.csv\n",
      "D:/Program Files/MongoDB/Server/3.0/bin/mongoimport --db trafficraw --type csv --fieldFile fields.txt --file D:\\data\\jiatongjudata\\EDW_VEHICLE\\T_TGIS_VEHICLE_GPS_HIS_GPS_HIS20150907.csv\n",
      "D:/Program Files/MongoDB/Server/3.0/bin/mongoimport --db trafficraw --type csv --fieldFile fields.txt --file D:\\data\\jiatongjudata\\EDW_VEHICLE\\T_TGIS_VEHICLE_GPS_HIS_GPS_HIS20150908.csv\n",
      "D:/Program Files/MongoDB/Server/3.0/bin/mongoimport --db trafficraw --type csv --fieldFile fields.txt --file D:\\data\\jiatongjudata\\EDW_VEHICLE\\T_TGIS_VEHICLE_GPS_HIS_GPS_HIS20150909.csv\n",
      "D:/Program Files/MongoDB/Server/3.0/bin/mongoimport --db trafficraw --type csv --fieldFile fields.txt --file D:\\data\\jiatongjudata\\EDW_VEHICLE\\T_TGIS_VEHICLE_GPS_HIS_GPS_HIS20150910.csv\n",
      "D:/Program Files/MongoDB/Server/3.0/bin/mongoimport --db trafficraw --type csv --fieldFile fields.txt --file D:\\data\\jiatongjudata\\EDW_VEHICLE\\T_TGIS_VEHICLE_GPS_HIS_GPS_HIS20150911.csv\n",
      "D:/Program Files/MongoDB/Server/3.0/bin/mongoimport --db trafficraw --type csv --fieldFile fields.txt --file D:\\data\\jiatongjudata\\EDW_VEHICLE\\T_TGIS_VEHICLE_GPS_HIS_GPS_HIS20150912.csv\n",
      "D:/Program Files/MongoDB/Server/3.0/bin/mongoimport --db trafficraw --type csv --fieldFile fields.txt --file D:\\data\\jiatongjudata\\EDW_VEHICLE\\T_TGIS_VEHICLE_GPS_HIS_GPS_HIS20150913.csv\n",
      "D:/Program Files/MongoDB/Server/3.0/bin/mongoimport --db trafficraw --type csv --fieldFile fields.txt --file D:\\data\\jiatongjudata\\EDW_VEHICLE\\T_TGIS_VEHICLE_GPS_HIS_GPS_HIS20150914.csv\n",
      "D:/Program Files/MongoDB/Server/3.0/bin/mongoimport --db trafficraw --type csv --fieldFile fields.txt --file D:\\data\\jiatongjudata\\EDW_VEHICLE\\T_TGIS_VEHICLE_GPS_HIS_GPS_HIS20150915.csv\n",
      "D:/Program Files/MongoDB/Server/3.0/bin/mongoimport --db trafficraw --type csv --fieldFile fields.txt --file D:\\data\\jiatongjudata\\EDW_VEHICLE\\T_TGIS_VEHICLE_GPS_HIS_GPS_HIS20150916.csv\n",
      "D:/Program Files/MongoDB/Server/3.0/bin/mongoimport --db trafficraw --type csv --fieldFile fields.txt --file D:\\data\\jiatongjudata\\EDW_VEHICLE\\T_TGIS_VEHICLE_GPS_HIS_GPS_HIS20150917.csv\n",
      "D:/Program Files/MongoDB/Server/3.0/bin/mongoimport --db trafficraw --type csv --fieldFile fields.txt --file D:\\data\\jiatongjudata\\EDW_VEHICLE\\T_TGIS_VEHICLE_GPS_HIS_GPS_HIS20150918.csv\n",
      "D:/Program Files/MongoDB/Server/3.0/bin/mongoimport --db trafficraw --type csv --fieldFile fields.txt --file D:\\data\\jiatongjudata\\EDW_VEHICLE\\T_TGIS_VEHICLE_GPS_HIS_GPS_HIS20150919.csv\n",
      "D:/Program Files/MongoDB/Server/3.0/bin/mongoimport --db trafficraw --type csv --fieldFile fields.txt --file D:\\data\\jiatongjudata\\EDW_VEHICLE\\T_TGIS_VEHICLE_GPS_HIS_GPS_HIS20150920.csv\n",
      "D:/Program Files/MongoDB/Server/3.0/bin/mongoimport --db trafficraw --type csv --fieldFile fields.txt --file D:\\data\\jiatongjudata\\EDW_VEHICLE\\T_TGIS_VEHICLE_GPS_HIS_GPS_HIS20150921.csv\n",
      "D:/Program Files/MongoDB/Server/3.0/bin/mongoimport --db trafficraw --type csv --fieldFile fields.txt --file D:\\data\\jiatongjudata\\EDW_VEHICLE\\T_TGIS_VEHICLE_GPS_HIS_GPS_HIS20150922.csv\n",
      "D:/Program Files/MongoDB/Server/3.0/bin/mongoimport --db trafficraw --type csv --fieldFile fields.txt --file D:\\data\\jiatongjudata\\EDW_VEHICLE\\T_TGIS_VEHICLE_GPS_HIS_GPS_HIS20150923.csv\n",
      "D:/Program Files/MongoDB/Server/3.0/bin/mongoimport --db trafficraw --type csv --fieldFile fields.txt --file D:\\data\\jiatongjudata\\EDW_VEHICLE\\T_TGIS_VEHICLE_GPS_HIS_GPS_HIS20150924.csv\n",
      "D:/Program Files/MongoDB/Server/3.0/bin/mongoimport --db trafficraw --type csv --fieldFile fields.txt --file D:\\data\\jiatongjudata\\EDW_VEHICLE\\T_TGIS_VEHICLE_GPS_HIS_GPS_HIS20150925.csv\n",
      "D:/Program Files/MongoDB/Server/3.0/bin/mongoimport --db trafficraw --type csv --fieldFile fields.txt --file D:\\data\\jiatongjudata\\EDW_VEHICLE\\T_TGIS_VEHICLE_GPS_HIS_GPS_HIS20150926.csv\n",
      "D:/Program Files/MongoDB/Server/3.0/bin/mongoimport --db trafficraw --type csv --fieldFile fields.txt --file D:\\data\\jiatongjudata\\EDW_VEHICLE\\T_TGIS_VEHICLE_GPS_HIS_GPS_HIS20150927.csv\n",
      "D:/Program Files/MongoDB/Server/3.0/bin/mongoimport --db trafficraw --type csv --fieldFile fields.txt --file D:\\data\\jiatongjudata\\EDW_VEHICLE\\T_TGIS_VEHICLE_GPS_HIS_GPS_HIS20150928.csv\n",
      "D:/Program Files/MongoDB/Server/3.0/bin/mongoimport --db trafficraw --type csv --fieldFile fields.txt --file D:\\data\\jiatongjudata\\EDW_VEHICLE\\T_TGIS_VEHICLE_GPS_HIS_GPS_HIS20150929.csv\n",
      "D:/Program Files/MongoDB/Server/3.0/bin/mongoimport --db trafficraw --type csv --fieldFile fields.txt --file D:\\data\\jiatongjudata\\EDW_VEHICLE\\T_TGIS_VEHICLE_GPS_HIS_GPS_HIS20150930.csv\n",
      "D:/Program Files/MongoDB/Server/3.0/bin/mongoimport --db trafficraw --type csv --fieldFile fields.txt --file D:\\data\\jiatongjudata\\EDW_VEHICLE\\T_TGIS_VEHICLE_GPS_HIS_GPS_HIS20151001.csv\n",
      "D:/Program Files/MongoDB/Server/3.0/bin/mongoimport --db trafficraw --type csv --fieldFile fields.txt --file D:\\data\\jiatongjudata\\EDW_VEHICLE\\T_TGIS_VEHICLE_GPS_HIS_GPS_HIS20151002.csv\n",
      "D:/Program Files/MongoDB/Server/3.0/bin/mongoimport --db trafficraw --type csv --fieldFile fields.txt --file D:\\data\\jiatongjudata\\EDW_VEHICLE\\T_TGIS_VEHICLE_GPS_HIS_GPS_HIS20151003.csv\n",
      "D:/Program Files/MongoDB/Server/3.0/bin/mongoimport --db trafficraw --type csv --fieldFile fields.txt --file D:\\data\\jiatongjudata\\EDW_VEHICLE\\T_TGIS_VEHICLE_GPS_HIS_GPS_HIS20151004.csv\n",
      "D:/Program Files/MongoDB/Server/3.0/bin/mongoimport --db trafficraw --type csv --fieldFile fields.txt --file D:\\data\\jiatongjudata\\EDW_VEHICLE\\T_TGIS_VEHICLE_GPS_HIS_GPS_HIS20151005.csv\n",
      "D:/Program Files/MongoDB/Server/3.0/bin/mongoimport --db trafficraw --type csv --fieldFile fields.txt --file D:\\data\\jiatongjudata\\EDW_VEHICLE\\T_TGIS_VEHICLE_GPS_HIS_GPS_HIS20151006.csv\n",
      "D:/Program Files/MongoDB/Server/3.0/bin/mongoimport --db trafficraw --type csv --fieldFile fields.txt --file D:\\data\\jiatongjudata\\EDW_VEHICLE\\T_TGIS_VEHICLE_GPS_HIS_GPS_HIS20151007.csv\n",
      "D:/Program Files/MongoDB/Server/3.0/bin/mongoimport --db trafficraw --type csv --fieldFile fields.txt --file D:\\data\\jiatongjudata\\EDW_VEHICLE\\T_TGIS_VEHICLE_GPS_HIS_GPS_HIS20151008.csv\n",
      "D:/Program Files/MongoDB/Server/3.0/bin/mongoimport --db trafficraw --type csv --fieldFile fields.txt --file D:\\data\\jiatongjudata\\EDW_VEHICLE\\T_TGIS_VEHICLE_GPS_HIS_GPS_HIS20151009.csv\n",
      "D:/Program Files/MongoDB/Server/3.0/bin/mongoimport --db trafficraw --type csv --fieldFile fields.txt --file D:\\data\\jiatongjudata\\EDW_VEHICLE\\T_TGIS_VEHICLE_GPS_HIS_GPS_HIS20151010.csv\n",
      "D:/Program Files/MongoDB/Server/3.0/bin/mongoimport --db trafficraw --type csv --fieldFile fields.txt --file D:\\data\\jiatongjudata\\EDW_VEHICLE\\T_TGIS_VEHICLE_GPS_HIS_GPS_HIS20151011.csv\n",
      "D:/Program Files/MongoDB/Server/3.0/bin/mongoimport --db trafficraw --type csv --fieldFile fields.txt --file D:\\data\\jiatongjudata\\EDW_VEHICLE\\T_TGIS_VEHICLE_GPS_HIS_GPS_HIS20151012.csv\n",
      "D:/Program Files/MongoDB/Server/3.0/bin/mongoimport --db trafficraw --type csv --fieldFile fields.txt --file D:\\data\\jiatongjudata\\EDW_VEHICLE\\T_TGIS_VEHICLE_GPS_HIS_GPS_HIS20151013.csv\n",
      "D:/Program Files/MongoDB/Server/3.0/bin/mongoimport --db trafficraw --type csv --fieldFile fields.txt --file D:\\data\\jiatongjudata\\EDW_VEHICLE\\T_TGIS_VEHICLE_GPS_HIS_GPS_HIS20151014.csv\n",
      "D:/Program Files/MongoDB/Server/3.0/bin/mongoimport --db trafficraw --type csv --fieldFile fields.txt --file D:\\data\\jiatongjudata\\EDW_VEHICLE\\T_TGIS_VEHICLE_GPS_HIS_GPS_HIS20151015.csv\n",
      "D:/Program Files/MongoDB/Server/3.0/bin/mongoimport --db trafficraw --type csv --fieldFile fields.txt --file D:\\data\\jiatongjudata\\EDW_VEHICLE\\T_TGIS_VEHICLE_GPS_HIS_GPS_HIS20151016.csv\n",
      "D:/Program Files/MongoDB/Server/3.0/bin/mongoimport --db trafficraw --type csv --fieldFile fields.txt --file D:\\data\\jiatongjudata\\EDW_VEHICLE\\T_TGIS_VEHICLE_GPS_HIS_GPS_HIS20151017.csv\n",
      "D:/Program Files/MongoDB/Server/3.0/bin/mongoimport --db trafficraw --type csv --fieldFile fields.txt --file D:\\data\\jiatongjudata\\EDW_VEHICLE\\T_TGIS_VEHICLE_GPS_HIS_GPS_HIS20151018.csv\n",
      "D:/Program Files/MongoDB/Server/3.0/bin/mongoimport --db trafficraw --type csv --fieldFile fields.txt --file D:\\data\\jiatongjudata\\EDW_VEHICLE\\T_TGIS_VEHICLE_GPS_HIS_GPS_HIS20151019.csv\n",
      "D:/Program Files/MongoDB/Server/3.0/bin/mongoimport --db trafficraw --type csv --fieldFile fields.txt --file D:\\data\\jiatongjudata\\EDW_VEHICLE\\T_TGIS_VEHICLE_GPS_HIS_GPS_HIS20151020.csv\n",
      "D:/Program Files/MongoDB/Server/3.0/bin/mongoimport --db trafficraw --type csv --fieldFile fields.txt --file D:\\data\\jiatongjudata\\EDW_VEHICLE\\T_TGIS_VEHICLE_GPS_HIS_GPS_HIS20151021.csv\n",
      "D:/Program Files/MongoDB/Server/3.0/bin/mongoimport --db trafficraw --type csv --fieldFile fields.txt --file D:\\data\\jiatongjudata\\EDW_VEHICLE\\T_TGIS_VEHICLE_GPS_HIS_GPS_HIS20151022.csv\n",
      "D:/Program Files/MongoDB/Server/3.0/bin/mongoimport --db trafficraw --type csv --fieldFile fields.txt --file D:\\data\\jiatongjudata\\EDW_VEHICLE\\T_TGIS_VEHICLE_GPS_HIS_GPS_HIS20151023.csv\n"
     ]
    }
   ],
   "source": [
    "%cd D:/data/jiatongjudata/EDW_VEHICLE\n",
    "from pymongo import MongoClient\n",
    "client = MongoClient('localhost', 27017)\n",
    "db=client['trafficraw']\n",
    "blacklist = ['T_TGIS_VEHICLE_GPS_NEW.csv']\n",
    "command = \"D:/Program Files/MongoDB/Server/3.0/bin/mongoimport --db trafficraw --type csv --fieldFile fields.txt --file %s\"\n",
    "files = os.listdir(os.getcwd())\n",
    "for f in files:\n",
    "    names = f.split('.')\n",
    "    ext = names[1]\n",
    "    if ext == 'csv' and  f not in blacklist:\n",
    "        # 如果集合不存在,才去导入\n",
    "        if names[0] not in db.collection_names():\n",
    "            print(command % os.path.abspath(f))\n",
    "            subprocess.call(command % os.path.abspath(f))"
   ]
  },
  {
   "cell_type": "code",
   "execution_count": null,
   "metadata": {
    "collapsed": true
   },
   "outputs": [],
   "source": []
  }
 ],
 "metadata": {
  "kernelspec": {
   "display_name": "Python 2",
   "language": "python",
   "name": "python2"
  },
  "language_info": {
   "codemirror_mode": {
    "name": "ipython",
    "version": 2
   },
   "file_extension": ".py",
   "mimetype": "text/x-python",
   "name": "python",
   "nbconvert_exporter": "python",
   "pygments_lexer": "ipython2",
   "version": "2.7.10"
  }
 },
 "nbformat": 4,
 "nbformat_minor": 0
}
