{
 "cells": [
  {
   "cell_type": "markdown",
   "metadata": {},
   "source": [
    "# 通过调用命令行导入数据"
   ]
  },
  {
   "cell_type": "code",
   "execution_count": 7,
   "metadata": {
    "collapsed": true
   },
   "outputs": [],
   "source": [
    "import os\n",
    "import os.path\n",
    "import subprocess"
   ]
  },
  {
   "cell_type": "code",
   "execution_count": 8,
   "metadata": {
    "collapsed": false
   },
   "outputs": [
    {
     "name": "stdout",
     "output_type": "stream",
     "text": [
      "D:\\data\\JiaoTongJu2015\\jiatongjudata\\EDW_BUSIMODEL_LS\n",
      "D:/Program Files/MongoDB/mongoimport --host 192.168.1.10 --db trafficn --type csv --headerline --file D:\\data\\JiaoTongJu2015\\jiatongjudata\\EDW_BUSIMODEL_LS\\CL01_CLJCXX.csv\n",
      "D:/Program Files/MongoDB/mongoimport --host 192.168.1.10 --db trafficn --type csv --headerline --file D:\\data\\JiaoTongJu2015\\jiatongjudata\\EDW_BUSIMODEL_LS\\DY50_WXHWDZLDSJ.csv\n"
     ]
    }
   ],
   "source": [
    "%cd D:/data/JiaoTongJu2015/jiatongjudata/EDW_BUSIMODEL_LS\n",
    "blacklist = ['CLDT_GJCGPSDWXX.csv','DY03_CLGPSLSXX.csv']\n",
    "command = \"D:/Program Files/MongoDB/mongoimport --host 192.168.1.10 --db trafficn --type csv --headerline --file %s\"\n",
    "files = os.listdir(os.getcwd())\n",
    "for f in files:\n",
    "    names = f.split('.')\n",
    "    ext = names[1]\n",
    "    if ext == 'csv' and  f not in blacklist:\n",
    "        print(command % os.path.abspath(f))\n",
    "        subprocess.call(command % os.path.abspath(f))"
   ]
  },
  {
   "cell_type": "code",
   "execution_count": 9,
   "metadata": {
    "collapsed": false
   },
   "outputs": [
    {
     "name": "stdout",
     "output_type": "stream",
     "text": [
      "D:\\data\\JiaoTongJu2015\\jiatongjudata\\EDW_JCSS\n",
      "D:/Program Files/MongoDB/mongoimport --host 192.168.1.10 --db trafficn --type csv --headerline --file D:\\data\\JiaoTongJu2015\\jiatongjudata\\EDW_JCSS\\CS50_GEO_JDSB.csv\n",
      "D:/Program Files/MongoDB/mongoimport --host 192.168.1.10 --db trafficn --type csv --headerline --file D:\\data\\JiaoTongJu2015\\jiatongjudata\\EDW_JCSS\\CS50_GEO_ZXCSS.csv\n",
      "D:/Program Files/MongoDB/mongoimport --host 192.168.1.10 --db trafficn --type csv --headerline --file D:\\data\\JiaoTongJu2015\\jiatongjudata\\EDW_JCSS\\DY50_GEO_QXZ.csv\n",
      "D:/Program Files/MongoDB/mongoimport --host 192.168.1.10 --db trafficn --type csv --headerline --file D:\\data\\JiaoTongJu2015\\jiatongjudata\\EDW_JCSS\\DY50_QX_YS_LS.csv\n",
      "D:/Program Files/MongoDB/mongoimport --host 192.168.1.10 --db trafficn --type csv --headerline --file D:\\data\\JiaoTongJu2015\\jiatongjudata\\EDW_JCSS\\DY50_SP_SSSJ_LS.csv\n",
      "D:/Program Files/MongoDB/mongoimport --host 192.168.1.10 --db trafficn --type csv --headerline --file D:\\data\\JiaoTongJu2015\\jiatongjudata\\EDW_JCSS\\DY50_WB_SSSJ_LS.csv\n",
      "D:/Program Files/MongoDB/mongoimport --host 192.168.1.10 --db trafficn --type csv --headerline --file D:\\data\\JiaoTongJu2015\\jiatongjudata\\EDW_JCSS\\DY50_XQ_SSSJ_LS.csv\n",
      "D:/Program Files/MongoDB/mongoimport --host 192.168.1.10 --db trafficn --type csv --headerline --file D:\\data\\JiaoTongJu2015\\jiatongjudata\\EDW_JCSS\\SY50_GEO_SWZ.csv\n",
      "D:/Program Files/MongoDB/mongoimport --host 192.168.1.10 --db trafficn --type csv --headerline --file D:\\data\\JiaoTongJu2015\\jiatongjudata\\EDW_JCSS\\SY50_SW_LSSJ.csv\n"
     ]
    }
   ],
   "source": [
    "%cd D:/data/JiaoTongJu2015/jiatongjudata/EDW_JCSS\n",
    "blacklist = []\n",
    "command = \"D:/Program Files/MongoDB/mongoimport --host 192.168.1.10 --db trafficn --type csv --headerline --file %s\"\n",
    "files = os.listdir(os.getcwd())\n",
    "for f in files:\n",
    "    names = f.split('.')\n",
    "    ext = names[1]\n",
    "    if ext == 'csv' and  f not in blacklist:\n",
    "        print(command % os.path.abspath(f))\n",
    "        subprocess.call(command % os.path.abspath(f))"
   ]
  },
  {
   "cell_type": "code",
   "execution_count": 10,
   "metadata": {
    "collapsed": false,
    "scrolled": false
   },
   "outputs": [
    {
     "name": "stdout",
     "output_type": "stream",
     "text": [
      "D:\\data\\JiaoTongJu2015\\jiatongjudata\\EDW_VEHICLE\n",
      "D:/Program Files/MongoDB/mongoimport --host 192.168.1.10 --db trafficn --type csv --fieldFile fields.txt --file D:\\data\\JiaoTongJu2015\\jiatongjudata\\EDW_VEHICLE\\T_TGIS_VEHICLE_GPS_HIS_GPS_HIS20150701.csv\n",
      "D:/Program Files/MongoDB/mongoimport --host 192.168.1.10 --db trafficn --type csv --fieldFile fields.txt --file D:\\data\\JiaoTongJu2015\\jiatongjudata\\EDW_VEHICLE\\T_TGIS_VEHICLE_GPS_HIS_GPS_HIS20150702.csv\n",
      "D:/Program Files/MongoDB/mongoimport --host 192.168.1.10 --db trafficn --type csv --fieldFile fields.txt --file D:\\data\\JiaoTongJu2015\\jiatongjudata\\EDW_VEHICLE\\T_TGIS_VEHICLE_GPS_HIS_GPS_HIS20150703.csv\n",
      "D:/Program Files/MongoDB/mongoimport --host 192.168.1.10 --db trafficn --type csv --fieldFile fields.txt --file D:\\data\\JiaoTongJu2015\\jiatongjudata\\EDW_VEHICLE\\T_TGIS_VEHICLE_GPS_HIS_GPS_HIS20150704.csv\n",
      "D:/Program Files/MongoDB/mongoimport --host 192.168.1.10 --db trafficn --type csv --fieldFile fields.txt --file D:\\data\\JiaoTongJu2015\\jiatongjudata\\EDW_VEHICLE\\T_TGIS_VEHICLE_GPS_HIS_GPS_HIS20150705.csv\n",
      "D:/Program Files/MongoDB/mongoimport --host 192.168.1.10 --db trafficn --type csv --fieldFile fields.txt --file D:\\data\\JiaoTongJu2015\\jiatongjudata\\EDW_VEHICLE\\T_TGIS_VEHICLE_GPS_HIS_GPS_HIS20150706.csv\n",
      "D:/Program Files/MongoDB/mongoimport --host 192.168.1.10 --db trafficn --type csv --fieldFile fields.txt --file D:\\data\\JiaoTongJu2015\\jiatongjudata\\EDW_VEHICLE\\T_TGIS_VEHICLE_GPS_HIS_GPS_HIS20150707.csv\n",
      "D:/Program Files/MongoDB/mongoimport --host 192.168.1.10 --db trafficn --type csv --fieldFile fields.txt --file D:\\data\\JiaoTongJu2015\\jiatongjudata\\EDW_VEHICLE\\T_TGIS_VEHICLE_GPS_HIS_GPS_HIS20150708.csv\n",
      "D:/Program Files/MongoDB/mongoimport --host 192.168.1.10 --db trafficn --type csv --fieldFile fields.txt --file D:\\data\\JiaoTongJu2015\\jiatongjudata\\EDW_VEHICLE\\T_TGIS_VEHICLE_GPS_HIS_GPS_HIS20150709.csv\n",
      "D:/Program Files/MongoDB/mongoimport --host 192.168.1.10 --db trafficn --type csv --fieldFile fields.txt --file D:\\data\\JiaoTongJu2015\\jiatongjudata\\EDW_VEHICLE\\T_TGIS_VEHICLE_GPS_HIS_GPS_HIS20150710.csv\n",
      "D:/Program Files/MongoDB/mongoimport --host 192.168.1.10 --db trafficn --type csv --fieldFile fields.txt --file D:\\data\\JiaoTongJu2015\\jiatongjudata\\EDW_VEHICLE\\T_TGIS_VEHICLE_GPS_HIS_GPS_HIS20150711.csv\n",
      "D:/Program Files/MongoDB/mongoimport --host 192.168.1.10 --db trafficn --type csv --fieldFile fields.txt --file D:\\data\\JiaoTongJu2015\\jiatongjudata\\EDW_VEHICLE\\T_TGIS_VEHICLE_GPS_HIS_GPS_HIS20150712.csv\n",
      "D:/Program Files/MongoDB/mongoimport --host 192.168.1.10 --db trafficn --type csv --fieldFile fields.txt --file D:\\data\\JiaoTongJu2015\\jiatongjudata\\EDW_VEHICLE\\T_TGIS_VEHICLE_GPS_HIS_GPS_HIS20150713.csv\n",
      "D:/Program Files/MongoDB/mongoimport --host 192.168.1.10 --db trafficn --type csv --fieldFile fields.txt --file D:\\data\\JiaoTongJu2015\\jiatongjudata\\EDW_VEHICLE\\T_TGIS_VEHICLE_GPS_HIS_GPS_HIS20150714.csv\n",
      "D:/Program Files/MongoDB/mongoimport --host 192.168.1.10 --db trafficn --type csv --fieldFile fields.txt --file D:\\data\\JiaoTongJu2015\\jiatongjudata\\EDW_VEHICLE\\T_TGIS_VEHICLE_GPS_HIS_GPS_HIS20150715.csv\n",
      "D:/Program Files/MongoDB/mongoimport --host 192.168.1.10 --db trafficn --type csv --fieldFile fields.txt --file D:\\data\\JiaoTongJu2015\\jiatongjudata\\EDW_VEHICLE\\T_TGIS_VEHICLE_GPS_HIS_GPS_HIS20150716.csv\n",
      "D:/Program Files/MongoDB/mongoimport --host 192.168.1.10 --db trafficn --type csv --fieldFile fields.txt --file D:\\data\\JiaoTongJu2015\\jiatongjudata\\EDW_VEHICLE\\T_TGIS_VEHICLE_GPS_HIS_GPS_HIS20150717.csv\n",
      "D:/Program Files/MongoDB/mongoimport --host 192.168.1.10 --db trafficn --type csv --fieldFile fields.txt --file D:\\data\\JiaoTongJu2015\\jiatongjudata\\EDW_VEHICLE\\T_TGIS_VEHICLE_GPS_HIS_GPS_HIS20150718.csv\n",
      "D:/Program Files/MongoDB/mongoimport --host 192.168.1.10 --db trafficn --type csv --fieldFile fields.txt --file D:\\data\\JiaoTongJu2015\\jiatongjudata\\EDW_VEHICLE\\T_TGIS_VEHICLE_GPS_HIS_GPS_HIS20150719.csv\n",
      "D:/Program Files/MongoDB/mongoimport --host 192.168.1.10 --db trafficn --type csv --fieldFile fields.txt --file D:\\data\\JiaoTongJu2015\\jiatongjudata\\EDW_VEHICLE\\T_TGIS_VEHICLE_GPS_HIS_GPS_HIS20150720.csv\n",
      "D:/Program Files/MongoDB/mongoimport --host 192.168.1.10 --db trafficn --type csv --fieldFile fields.txt --file D:\\data\\JiaoTongJu2015\\jiatongjudata\\EDW_VEHICLE\\T_TGIS_VEHICLE_GPS_HIS_GPS_HIS20150721.csv\n",
      "D:/Program Files/MongoDB/mongoimport --host 192.168.1.10 --db trafficn --type csv --fieldFile fields.txt --file D:\\data\\JiaoTongJu2015\\jiatongjudata\\EDW_VEHICLE\\T_TGIS_VEHICLE_GPS_HIS_GPS_HIS20150722.csv\n",
      "D:/Program Files/MongoDB/mongoimport --host 192.168.1.10 --db trafficn --type csv --fieldFile fields.txt --file D:\\data\\JiaoTongJu2015\\jiatongjudata\\EDW_VEHICLE\\T_TGIS_VEHICLE_GPS_HIS_GPS_HIS20150723.csv\n",
      "D:/Program Files/MongoDB/mongoimport --host 192.168.1.10 --db trafficn --type csv --fieldFile fields.txt --file D:\\data\\JiaoTongJu2015\\jiatongjudata\\EDW_VEHICLE\\T_TGIS_VEHICLE_GPS_HIS_GPS_HIS20150724.csv\n",
      "D:/Program Files/MongoDB/mongoimport --host 192.168.1.10 --db trafficn --type csv --fieldFile fields.txt --file D:\\data\\JiaoTongJu2015\\jiatongjudata\\EDW_VEHICLE\\T_TGIS_VEHICLE_GPS_HIS_GPS_HIS20150725.csv\n",
      "D:/Program Files/MongoDB/mongoimport --host 192.168.1.10 --db trafficn --type csv --fieldFile fields.txt --file D:\\data\\JiaoTongJu2015\\jiatongjudata\\EDW_VEHICLE\\T_TGIS_VEHICLE_GPS_HIS_GPS_HIS20150726.csv\n",
      "D:/Program Files/MongoDB/mongoimport --host 192.168.1.10 --db trafficn --type csv --fieldFile fields.txt --file D:\\data\\JiaoTongJu2015\\jiatongjudata\\EDW_VEHICLE\\T_TGIS_VEHICLE_GPS_HIS_GPS_HIS20150727.csv\n",
      "D:/Program Files/MongoDB/mongoimport --host 192.168.1.10 --db trafficn --type csv --fieldFile fields.txt --file D:\\data\\JiaoTongJu2015\\jiatongjudata\\EDW_VEHICLE\\T_TGIS_VEHICLE_GPS_HIS_GPS_HIS20150728.csv\n",
      "D:/Program Files/MongoDB/mongoimport --host 192.168.1.10 --db trafficn --type csv --fieldFile fields.txt --file D:\\data\\JiaoTongJu2015\\jiatongjudata\\EDW_VEHICLE\\T_TGIS_VEHICLE_GPS_HIS_GPS_HIS20150729.csv\n",
      "D:/Program Files/MongoDB/mongoimport --host 192.168.1.10 --db trafficn --type csv --fieldFile fields.txt --file D:\\data\\JiaoTongJu2015\\jiatongjudata\\EDW_VEHICLE\\T_TGIS_VEHICLE_GPS_HIS_GPS_HIS20150730.csv\n",
      "D:/Program Files/MongoDB/mongoimport --host 192.168.1.10 --db trafficn --type csv --fieldFile fields.txt --file D:\\data\\JiaoTongJu2015\\jiatongjudata\\EDW_VEHICLE\\T_TGIS_VEHICLE_GPS_HIS_GPS_HIS20150731.csv\n",
      "D:/Program Files/MongoDB/mongoimport --host 192.168.1.10 --db trafficn --type csv --fieldFile fields.txt --file D:\\data\\JiaoTongJu2015\\jiatongjudata\\EDW_VEHICLE\\T_TGIS_VEHICLE_GPS_HIS_GPS_HIS20150801.csv\n",
      "D:/Program Files/MongoDB/mongoimport --host 192.168.1.10 --db trafficn --type csv --fieldFile fields.txt --file D:\\data\\JiaoTongJu2015\\jiatongjudata\\EDW_VEHICLE\\T_TGIS_VEHICLE_GPS_HIS_GPS_HIS20150802.csv\n",
      "D:/Program Files/MongoDB/mongoimport --host 192.168.1.10 --db trafficn --type csv --fieldFile fields.txt --file D:\\data\\JiaoTongJu2015\\jiatongjudata\\EDW_VEHICLE\\T_TGIS_VEHICLE_GPS_HIS_GPS_HIS20150803.csv\n",
      "D:/Program Files/MongoDB/mongoimport --host 192.168.1.10 --db trafficn --type csv --fieldFile fields.txt --file D:\\data\\JiaoTongJu2015\\jiatongjudata\\EDW_VEHICLE\\T_TGIS_VEHICLE_GPS_HIS_GPS_HIS20150804.csv\n",
      "D:/Program Files/MongoDB/mongoimport --host 192.168.1.10 --db trafficn --type csv --fieldFile fields.txt --file D:\\data\\JiaoTongJu2015\\jiatongjudata\\EDW_VEHICLE\\T_TGIS_VEHICLE_GPS_HIS_GPS_HIS20150805.csv\n",
      "D:/Program Files/MongoDB/mongoimport --host 192.168.1.10 --db trafficn --type csv --fieldFile fields.txt --file D:\\data\\JiaoTongJu2015\\jiatongjudata\\EDW_VEHICLE\\T_TGIS_VEHICLE_GPS_HIS_GPS_HIS20150806.csv\n",
      "D:/Program Files/MongoDB/mongoimport --host 192.168.1.10 --db trafficn --type csv --fieldFile fields.txt --file D:\\data\\JiaoTongJu2015\\jiatongjudata\\EDW_VEHICLE\\T_TGIS_VEHICLE_GPS_HIS_GPS_HIS20150807.csv\n",
      "D:/Program Files/MongoDB/mongoimport --host 192.168.1.10 --db trafficn --type csv --fieldFile fields.txt --file D:\\data\\JiaoTongJu2015\\jiatongjudata\\EDW_VEHICLE\\T_TGIS_VEHICLE_GPS_HIS_GPS_HIS20150808.csv\n",
      "D:/Program Files/MongoDB/mongoimport --host 192.168.1.10 --db trafficn --type csv --fieldFile fields.txt --file D:\\data\\JiaoTongJu2015\\jiatongjudata\\EDW_VEHICLE\\T_TGIS_VEHICLE_GPS_HIS_GPS_HIS20150809.csv\n",
      "D:/Program Files/MongoDB/mongoimport --host 192.168.1.10 --db trafficn --type csv --fieldFile fields.txt --file D:\\data\\JiaoTongJu2015\\jiatongjudata\\EDW_VEHICLE\\T_TGIS_VEHICLE_GPS_HIS_GPS_HIS20150810.csv\n",
      "D:/Program Files/MongoDB/mongoimport --host 192.168.1.10 --db trafficn --type csv --fieldFile fields.txt --file D:\\data\\JiaoTongJu2015\\jiatongjudata\\EDW_VEHICLE\\T_TGIS_VEHICLE_GPS_HIS_GPS_HIS20150811.csv\n",
      "D:/Program Files/MongoDB/mongoimport --host 192.168.1.10 --db trafficn --type csv --fieldFile fields.txt --file D:\\data\\JiaoTongJu2015\\jiatongjudata\\EDW_VEHICLE\\T_TGIS_VEHICLE_GPS_HIS_GPS_HIS20150812.csv\n",
      "D:/Program Files/MongoDB/mongoimport --host 192.168.1.10 --db trafficn --type csv --fieldFile fields.txt --file D:\\data\\JiaoTongJu2015\\jiatongjudata\\EDW_VEHICLE\\T_TGIS_VEHICLE_GPS_HIS_GPS_HIS20150813.csv\n",
      "D:/Program Files/MongoDB/mongoimport --host 192.168.1.10 --db trafficn --type csv --fieldFile fields.txt --file D:\\data\\JiaoTongJu2015\\jiatongjudata\\EDW_VEHICLE\\T_TGIS_VEHICLE_GPS_HIS_GPS_HIS20150814.csv\n",
      "D:/Program Files/MongoDB/mongoimport --host 192.168.1.10 --db trafficn --type csv --fieldFile fields.txt --file D:\\data\\JiaoTongJu2015\\jiatongjudata\\EDW_VEHICLE\\T_TGIS_VEHICLE_GPS_HIS_GPS_HIS20150815.csv\n",
      "D:/Program Files/MongoDB/mongoimport --host 192.168.1.10 --db trafficn --type csv --fieldFile fields.txt --file D:\\data\\JiaoTongJu2015\\jiatongjudata\\EDW_VEHICLE\\T_TGIS_VEHICLE_GPS_HIS_GPS_HIS20150816.csv\n",
      "D:/Program Files/MongoDB/mongoimport --host 192.168.1.10 --db trafficn --type csv --fieldFile fields.txt --file D:\\data\\JiaoTongJu2015\\jiatongjudata\\EDW_VEHICLE\\T_TGIS_VEHICLE_GPS_HIS_GPS_HIS20150817.csv\n",
      "D:/Program Files/MongoDB/mongoimport --host 192.168.1.10 --db trafficn --type csv --fieldFile fields.txt --file D:\\data\\JiaoTongJu2015\\jiatongjudata\\EDW_VEHICLE\\T_TGIS_VEHICLE_GPS_HIS_GPS_HIS20150818.csv\n",
      "D:/Program Files/MongoDB/mongoimport --host 192.168.1.10 --db trafficn --type csv --fieldFile fields.txt --file D:\\data\\JiaoTongJu2015\\jiatongjudata\\EDW_VEHICLE\\T_TGIS_VEHICLE_GPS_HIS_GPS_HIS20150819.csv\n",
      "D:/Program Files/MongoDB/mongoimport --host 192.168.1.10 --db trafficn --type csv --fieldFile fields.txt --file D:\\data\\JiaoTongJu2015\\jiatongjudata\\EDW_VEHICLE\\T_TGIS_VEHICLE_GPS_HIS_GPS_HIS20150820.csv\n",
      "D:/Program Files/MongoDB/mongoimport --host 192.168.1.10 --db trafficn --type csv --fieldFile fields.txt --file D:\\data\\JiaoTongJu2015\\jiatongjudata\\EDW_VEHICLE\\T_TGIS_VEHICLE_GPS_HIS_GPS_HIS20150821.csv\n",
      "D:/Program Files/MongoDB/mongoimport --host 192.168.1.10 --db trafficn --type csv --fieldFile fields.txt --file D:\\data\\JiaoTongJu2015\\jiatongjudata\\EDW_VEHICLE\\T_TGIS_VEHICLE_GPS_HIS_GPS_HIS20150822.csv\n",
      "D:/Program Files/MongoDB/mongoimport --host 192.168.1.10 --db trafficn --type csv --fieldFile fields.txt --file D:\\data\\JiaoTongJu2015\\jiatongjudata\\EDW_VEHICLE\\T_TGIS_VEHICLE_GPS_HIS_GPS_HIS20150823.csv\n",
      "D:/Program Files/MongoDB/mongoimport --host 192.168.1.10 --db trafficn --type csv --fieldFile fields.txt --file D:\\data\\JiaoTongJu2015\\jiatongjudata\\EDW_VEHICLE\\T_TGIS_VEHICLE_GPS_HIS_GPS_HIS20150824.csv\n",
      "D:/Program Files/MongoDB/mongoimport --host 192.168.1.10 --db trafficn --type csv --fieldFile fields.txt --file D:\\data\\JiaoTongJu2015\\jiatongjudata\\EDW_VEHICLE\\T_TGIS_VEHICLE_GPS_HIS_GPS_HIS20150825.csv\n",
      "D:/Program Files/MongoDB/mongoimport --host 192.168.1.10 --db trafficn --type csv --fieldFile fields.txt --file D:\\data\\JiaoTongJu2015\\jiatongjudata\\EDW_VEHICLE\\T_TGIS_VEHICLE_GPS_HIS_GPS_HIS20150826.csv\n",
      "D:/Program Files/MongoDB/mongoimport --host 192.168.1.10 --db trafficn --type csv --fieldFile fields.txt --file D:\\data\\JiaoTongJu2015\\jiatongjudata\\EDW_VEHICLE\\T_TGIS_VEHICLE_GPS_HIS_GPS_HIS20150827.csv\n",
      "D:/Program Files/MongoDB/mongoimport --host 192.168.1.10 --db trafficn --type csv --fieldFile fields.txt --file D:\\data\\JiaoTongJu2015\\jiatongjudata\\EDW_VEHICLE\\T_TGIS_VEHICLE_GPS_HIS_GPS_HIS20150828.csv\n",
      "D:/Program Files/MongoDB/mongoimport --host 192.168.1.10 --db trafficn --type csv --fieldFile fields.txt --file D:\\data\\JiaoTongJu2015\\jiatongjudata\\EDW_VEHICLE\\T_TGIS_VEHICLE_GPS_HIS_GPS_HIS20150829.csv\n",
      "D:/Program Files/MongoDB/mongoimport --host 192.168.1.10 --db trafficn --type csv --fieldFile fields.txt --file D:\\data\\JiaoTongJu2015\\jiatongjudata\\EDW_VEHICLE\\T_TGIS_VEHICLE_GPS_HIS_GPS_HIS20150830.csv\n",
      "D:/Program Files/MongoDB/mongoimport --host 192.168.1.10 --db trafficn --type csv --fieldFile fields.txt --file D:\\data\\JiaoTongJu2015\\jiatongjudata\\EDW_VEHICLE\\T_TGIS_VEHICLE_GPS_HIS_GPS_HIS20150831.csv\n",
      "D:/Program Files/MongoDB/mongoimport --host 192.168.1.10 --db trafficn --type csv --fieldFile fields.txt --file D:\\data\\JiaoTongJu2015\\jiatongjudata\\EDW_VEHICLE\\T_TGIS_VEHICLE_GPS_HIS_GPS_HIS20150901.csv\n",
      "D:/Program Files/MongoDB/mongoimport --host 192.168.1.10 --db trafficn --type csv --fieldFile fields.txt --file D:\\data\\JiaoTongJu2015\\jiatongjudata\\EDW_VEHICLE\\T_TGIS_VEHICLE_GPS_HIS_GPS_HIS20150902.csv\n",
      "D:/Program Files/MongoDB/mongoimport --host 192.168.1.10 --db trafficn --type csv --fieldFile fields.txt --file D:\\data\\JiaoTongJu2015\\jiatongjudata\\EDW_VEHICLE\\T_TGIS_VEHICLE_GPS_HIS_GPS_HIS20150903.csv\n",
      "D:/Program Files/MongoDB/mongoimport --host 192.168.1.10 --db trafficn --type csv --fieldFile fields.txt --file D:\\data\\JiaoTongJu2015\\jiatongjudata\\EDW_VEHICLE\\T_TGIS_VEHICLE_GPS_HIS_GPS_HIS20150904.csv\n",
      "D:/Program Files/MongoDB/mongoimport --host 192.168.1.10 --db trafficn --type csv --fieldFile fields.txt --file D:\\data\\JiaoTongJu2015\\jiatongjudata\\EDW_VEHICLE\\T_TGIS_VEHICLE_GPS_HIS_GPS_HIS20150905.csv\n",
      "D:/Program Files/MongoDB/mongoimport --host 192.168.1.10 --db trafficn --type csv --fieldFile fields.txt --file D:\\data\\JiaoTongJu2015\\jiatongjudata\\EDW_VEHICLE\\T_TGIS_VEHICLE_GPS_HIS_GPS_HIS20150906.csv\n",
      "D:/Program Files/MongoDB/mongoimport --host 192.168.1.10 --db trafficn --type csv --fieldFile fields.txt --file D:\\data\\JiaoTongJu2015\\jiatongjudata\\EDW_VEHICLE\\T_TGIS_VEHICLE_GPS_HIS_GPS_HIS20150907.csv\n",
      "D:/Program Files/MongoDB/mongoimport --host 192.168.1.10 --db trafficn --type csv --fieldFile fields.txt --file D:\\data\\JiaoTongJu2015\\jiatongjudata\\EDW_VEHICLE\\T_TGIS_VEHICLE_GPS_HIS_GPS_HIS20150908.csv\n",
      "D:/Program Files/MongoDB/mongoimport --host 192.168.1.10 --db trafficn --type csv --fieldFile fields.txt --file D:\\data\\JiaoTongJu2015\\jiatongjudata\\EDW_VEHICLE\\T_TGIS_VEHICLE_GPS_HIS_GPS_HIS20150909.csv\n",
      "D:/Program Files/MongoDB/mongoimport --host 192.168.1.10 --db trafficn --type csv --fieldFile fields.txt --file D:\\data\\JiaoTongJu2015\\jiatongjudata\\EDW_VEHICLE\\T_TGIS_VEHICLE_GPS_HIS_GPS_HIS20150910.csv\n",
      "D:/Program Files/MongoDB/mongoimport --host 192.168.1.10 --db trafficn --type csv --fieldFile fields.txt --file D:\\data\\JiaoTongJu2015\\jiatongjudata\\EDW_VEHICLE\\T_TGIS_VEHICLE_GPS_HIS_GPS_HIS20150911.csv\n",
      "D:/Program Files/MongoDB/mongoimport --host 192.168.1.10 --db trafficn --type csv --fieldFile fields.txt --file D:\\data\\JiaoTongJu2015\\jiatongjudata\\EDW_VEHICLE\\T_TGIS_VEHICLE_GPS_HIS_GPS_HIS20150912.csv\n",
      "D:/Program Files/MongoDB/mongoimport --host 192.168.1.10 --db trafficn --type csv --fieldFile fields.txt --file D:\\data\\JiaoTongJu2015\\jiatongjudata\\EDW_VEHICLE\\T_TGIS_VEHICLE_GPS_HIS_GPS_HIS20150913.csv\n",
      "D:/Program Files/MongoDB/mongoimport --host 192.168.1.10 --db trafficn --type csv --fieldFile fields.txt --file D:\\data\\JiaoTongJu2015\\jiatongjudata\\EDW_VEHICLE\\T_TGIS_VEHICLE_GPS_HIS_GPS_HIS20150914.csv\n",
      "D:/Program Files/MongoDB/mongoimport --host 192.168.1.10 --db trafficn --type csv --fieldFile fields.txt --file D:\\data\\JiaoTongJu2015\\jiatongjudata\\EDW_VEHICLE\\T_TGIS_VEHICLE_GPS_HIS_GPS_HIS20150915.csv\n",
      "D:/Program Files/MongoDB/mongoimport --host 192.168.1.10 --db trafficn --type csv --fieldFile fields.txt --file D:\\data\\JiaoTongJu2015\\jiatongjudata\\EDW_VEHICLE\\T_TGIS_VEHICLE_GPS_HIS_GPS_HIS20150916.csv\n",
      "D:/Program Files/MongoDB/mongoimport --host 192.168.1.10 --db trafficn --type csv --fieldFile fields.txt --file D:\\data\\JiaoTongJu2015\\jiatongjudata\\EDW_VEHICLE\\T_TGIS_VEHICLE_GPS_HIS_GPS_HIS20150917.csv\n",
      "D:/Program Files/MongoDB/mongoimport --host 192.168.1.10 --db trafficn --type csv --fieldFile fields.txt --file D:\\data\\JiaoTongJu2015\\jiatongjudata\\EDW_VEHICLE\\T_TGIS_VEHICLE_GPS_HIS_GPS_HIS20150918.csv\n",
      "D:/Program Files/MongoDB/mongoimport --host 192.168.1.10 --db trafficn --type csv --fieldFile fields.txt --file D:\\data\\JiaoTongJu2015\\jiatongjudata\\EDW_VEHICLE\\T_TGIS_VEHICLE_GPS_HIS_GPS_HIS20150919.csv\n",
      "D:/Program Files/MongoDB/mongoimport --host 192.168.1.10 --db trafficn --type csv --fieldFile fields.txt --file D:\\data\\JiaoTongJu2015\\jiatongjudata\\EDW_VEHICLE\\T_TGIS_VEHICLE_GPS_HIS_GPS_HIS20150920.csv\n",
      "D:/Program Files/MongoDB/mongoimport --host 192.168.1.10 --db trafficn --type csv --fieldFile fields.txt --file D:\\data\\JiaoTongJu2015\\jiatongjudata\\EDW_VEHICLE\\T_TGIS_VEHICLE_GPS_HIS_GPS_HIS20150921.csv\n",
      "D:/Program Files/MongoDB/mongoimport --host 192.168.1.10 --db trafficn --type csv --fieldFile fields.txt --file D:\\data\\JiaoTongJu2015\\jiatongjudata\\EDW_VEHICLE\\T_TGIS_VEHICLE_GPS_HIS_GPS_HIS20150922.csv\n",
      "D:/Program Files/MongoDB/mongoimport --host 192.168.1.10 --db trafficn --type csv --fieldFile fields.txt --file D:\\data\\JiaoTongJu2015\\jiatongjudata\\EDW_VEHICLE\\T_TGIS_VEHICLE_GPS_HIS_GPS_HIS20150923.csv\n",
      "D:/Program Files/MongoDB/mongoimport --host 192.168.1.10 --db trafficn --type csv --fieldFile fields.txt --file D:\\data\\JiaoTongJu2015\\jiatongjudata\\EDW_VEHICLE\\T_TGIS_VEHICLE_GPS_HIS_GPS_HIS20150924.csv\n",
      "D:/Program Files/MongoDB/mongoimport --host 192.168.1.10 --db trafficn --type csv --fieldFile fields.txt --file D:\\data\\JiaoTongJu2015\\jiatongjudata\\EDW_VEHICLE\\T_TGIS_VEHICLE_GPS_HIS_GPS_HIS20150925.csv\n",
      "D:/Program Files/MongoDB/mongoimport --host 192.168.1.10 --db trafficn --type csv --fieldFile fields.txt --file D:\\data\\JiaoTongJu2015\\jiatongjudata\\EDW_VEHICLE\\T_TGIS_VEHICLE_GPS_HIS_GPS_HIS20150926.csv\n",
      "D:/Program Files/MongoDB/mongoimport --host 192.168.1.10 --db trafficn --type csv --fieldFile fields.txt --file D:\\data\\JiaoTongJu2015\\jiatongjudata\\EDW_VEHICLE\\T_TGIS_VEHICLE_GPS_HIS_GPS_HIS20150927.csv\n",
      "D:/Program Files/MongoDB/mongoimport --host 192.168.1.10 --db trafficn --type csv --fieldFile fields.txt --file D:\\data\\JiaoTongJu2015\\jiatongjudata\\EDW_VEHICLE\\T_TGIS_VEHICLE_GPS_HIS_GPS_HIS20150928.csv\n",
      "D:/Program Files/MongoDB/mongoimport --host 192.168.1.10 --db trafficn --type csv --fieldFile fields.txt --file D:\\data\\JiaoTongJu2015\\jiatongjudata\\EDW_VEHICLE\\T_TGIS_VEHICLE_GPS_HIS_GPS_HIS20150929.csv\n",
      "D:/Program Files/MongoDB/mongoimport --host 192.168.1.10 --db trafficn --type csv --fieldFile fields.txt --file D:\\data\\JiaoTongJu2015\\jiatongjudata\\EDW_VEHICLE\\T_TGIS_VEHICLE_GPS_HIS_GPS_HIS20150930.csv\n",
      "D:/Program Files/MongoDB/mongoimport --host 192.168.1.10 --db trafficn --type csv --fieldFile fields.txt --file D:\\data\\JiaoTongJu2015\\jiatongjudata\\EDW_VEHICLE\\T_TGIS_VEHICLE_GPS_HIS_GPS_HIS20151001.csv\n",
      "D:/Program Files/MongoDB/mongoimport --host 192.168.1.10 --db trafficn --type csv --fieldFile fields.txt --file D:\\data\\JiaoTongJu2015\\jiatongjudata\\EDW_VEHICLE\\T_TGIS_VEHICLE_GPS_HIS_GPS_HIS20151002.csv\n",
      "D:/Program Files/MongoDB/mongoimport --host 192.168.1.10 --db trafficn --type csv --fieldFile fields.txt --file D:\\data\\JiaoTongJu2015\\jiatongjudata\\EDW_VEHICLE\\T_TGIS_VEHICLE_GPS_HIS_GPS_HIS20151003.csv\n",
      "D:/Program Files/MongoDB/mongoimport --host 192.168.1.10 --db trafficn --type csv --fieldFile fields.txt --file D:\\data\\JiaoTongJu2015\\jiatongjudata\\EDW_VEHICLE\\T_TGIS_VEHICLE_GPS_HIS_GPS_HIS20151004.csv\n",
      "D:/Program Files/MongoDB/mongoimport --host 192.168.1.10 --db trafficn --type csv --fieldFile fields.txt --file D:\\data\\JiaoTongJu2015\\jiatongjudata\\EDW_VEHICLE\\T_TGIS_VEHICLE_GPS_HIS_GPS_HIS20151005.csv\n",
      "D:/Program Files/MongoDB/mongoimport --host 192.168.1.10 --db trafficn --type csv --fieldFile fields.txt --file D:\\data\\JiaoTongJu2015\\jiatongjudata\\EDW_VEHICLE\\T_TGIS_VEHICLE_GPS_HIS_GPS_HIS20151006.csv\n",
      "D:/Program Files/MongoDB/mongoimport --host 192.168.1.10 --db trafficn --type csv --fieldFile fields.txt --file D:\\data\\JiaoTongJu2015\\jiatongjudata\\EDW_VEHICLE\\T_TGIS_VEHICLE_GPS_HIS_GPS_HIS20151007.csv\n",
      "D:/Program Files/MongoDB/mongoimport --host 192.168.1.10 --db trafficn --type csv --fieldFile fields.txt --file D:\\data\\JiaoTongJu2015\\jiatongjudata\\EDW_VEHICLE\\T_TGIS_VEHICLE_GPS_HIS_GPS_HIS20151008.csv\n",
      "D:/Program Files/MongoDB/mongoimport --host 192.168.1.10 --db trafficn --type csv --fieldFile fields.txt --file D:\\data\\JiaoTongJu2015\\jiatongjudata\\EDW_VEHICLE\\T_TGIS_VEHICLE_GPS_HIS_GPS_HIS20151009.csv\n",
      "D:/Program Files/MongoDB/mongoimport --host 192.168.1.10 --db trafficn --type csv --fieldFile fields.txt --file D:\\data\\JiaoTongJu2015\\jiatongjudata\\EDW_VEHICLE\\T_TGIS_VEHICLE_GPS_HIS_GPS_HIS20151010.csv\n",
      "D:/Program Files/MongoDB/mongoimport --host 192.168.1.10 --db trafficn --type csv --fieldFile fields.txt --file D:\\data\\JiaoTongJu2015\\jiatongjudata\\EDW_VEHICLE\\T_TGIS_VEHICLE_GPS_HIS_GPS_HIS20151011.csv\n",
      "D:/Program Files/MongoDB/mongoimport --host 192.168.1.10 --db trafficn --type csv --fieldFile fields.txt --file D:\\data\\JiaoTongJu2015\\jiatongjudata\\EDW_VEHICLE\\T_TGIS_VEHICLE_GPS_HIS_GPS_HIS20151012.csv\n",
      "D:/Program Files/MongoDB/mongoimport --host 192.168.1.10 --db trafficn --type csv --fieldFile fields.txt --file D:\\data\\JiaoTongJu2015\\jiatongjudata\\EDW_VEHICLE\\T_TGIS_VEHICLE_GPS_HIS_GPS_HIS20151013.csv\n",
      "D:/Program Files/MongoDB/mongoimport --host 192.168.1.10 --db trafficn --type csv --fieldFile fields.txt --file D:\\data\\JiaoTongJu2015\\jiatongjudata\\EDW_VEHICLE\\T_TGIS_VEHICLE_GPS_HIS_GPS_HIS20151014.csv\n",
      "D:/Program Files/MongoDB/mongoimport --host 192.168.1.10 --db trafficn --type csv --fieldFile fields.txt --file D:\\data\\JiaoTongJu2015\\jiatongjudata\\EDW_VEHICLE\\T_TGIS_VEHICLE_GPS_HIS_GPS_HIS20151015.csv\n",
      "D:/Program Files/MongoDB/mongoimport --host 192.168.1.10 --db trafficn --type csv --fieldFile fields.txt --file D:\\data\\JiaoTongJu2015\\jiatongjudata\\EDW_VEHICLE\\T_TGIS_VEHICLE_GPS_HIS_GPS_HIS20151016.csv\n",
      "D:/Program Files/MongoDB/mongoimport --host 192.168.1.10 --db trafficn --type csv --fieldFile fields.txt --file D:\\data\\JiaoTongJu2015\\jiatongjudata\\EDW_VEHICLE\\T_TGIS_VEHICLE_GPS_HIS_GPS_HIS20151017.csv\n",
      "D:/Program Files/MongoDB/mongoimport --host 192.168.1.10 --db trafficn --type csv --fieldFile fields.txt --file D:\\data\\JiaoTongJu2015\\jiatongjudata\\EDW_VEHICLE\\T_TGIS_VEHICLE_GPS_HIS_GPS_HIS20151018.csv\n",
      "D:/Program Files/MongoDB/mongoimport --host 192.168.1.10 --db trafficn --type csv --fieldFile fields.txt --file D:\\data\\JiaoTongJu2015\\jiatongjudata\\EDW_VEHICLE\\T_TGIS_VEHICLE_GPS_HIS_GPS_HIS20151019.csv\n",
      "D:/Program Files/MongoDB/mongoimport --host 192.168.1.10 --db trafficn --type csv --fieldFile fields.txt --file D:\\data\\JiaoTongJu2015\\jiatongjudata\\EDW_VEHICLE\\T_TGIS_VEHICLE_GPS_HIS_GPS_HIS20151020.csv\n",
      "D:/Program Files/MongoDB/mongoimport --host 192.168.1.10 --db trafficn --type csv --fieldFile fields.txt --file D:\\data\\JiaoTongJu2015\\jiatongjudata\\EDW_VEHICLE\\T_TGIS_VEHICLE_GPS_HIS_GPS_HIS20151021.csv\n",
      "D:/Program Files/MongoDB/mongoimport --host 192.168.1.10 --db trafficn --type csv --fieldFile fields.txt --file D:\\data\\JiaoTongJu2015\\jiatongjudata\\EDW_VEHICLE\\T_TGIS_VEHICLE_GPS_HIS_GPS_HIS20151022.csv\n",
      "D:/Program Files/MongoDB/mongoimport --host 192.168.1.10 --db trafficn --type csv --fieldFile fields.txt --file D:\\data\\JiaoTongJu2015\\jiatongjudata\\EDW_VEHICLE\\T_TGIS_VEHICLE_GPS_HIS_GPS_HIS20151023.csv\n"
     ]
    }
   ],
   "source": [
    "%cd D:/data/JiaoTongJu2015/jiatongjudata/EDW_VEHICLE\n",
    "#from pymongo import MongoClient\n",
    "#client = MongoClient('192.168.1.10', 27017)\n",
    "#db=client['trafficraw']\n",
    "blacklist = ['T_TGIS_VEHICLE_GPS_NEW.csv']\n",
    "command = \"D:/Program Files/MongoDB/mongoimport --host 192.168.1.10 --db trafficn --type csv --fieldFile fields.txt --file %s\"\n",
    "files = os.listdir(os.getcwd())\n",
    "for f in files:\n",
    "    names = f.split('.')\n",
    "    ext = names[1]\n",
    "    if ext == 'csv' and  f not in blacklist:\n",
    "        # 如果集合不存在,才去导入\n",
    "        #if names[0] not in db.collection_names():\n",
    "        print(command % os.path.abspath(f))\n",
    "        subprocess.call(command % os.path.abspath(f))"
   ]
  },
  {
   "cell_type": "markdown",
   "metadata": {
    "collapsed": true
   },
   "source": [
    "# 清理数据库"
   ]
  },
  {
   "cell_type": "code",
   "execution_count": 2,
   "metadata": {
    "collapsed": false
   },
   "outputs": [],
   "source": [
    "from pymongo import MongoClient"
   ]
  },
  {
   "cell_type": "code",
   "execution_count": 6,
   "metadata": {
    "collapsed": true
   },
   "outputs": [],
   "source": [
    "client = MongoClient('192.168.1.10', 27017)\n",
    "db = client['trafficn']\n",
    "db.drop_collection('T_TGIS_VEHICLE_GPS_HIS_GPS_HIS20150701')"
   ]
  },
  {
   "cell_type": "markdown",
   "metadata": {},
   "source": [
    "# js代码：把日期字符串修改成时间日期的类型\n",
    "db.DY50_XQ_SSSJ_LS.find().forEach(function(element){  \n",
    "  element.QSSJ = new Date(element.QSSJ);  \n",
    "  element.JSSJ = new Date(element.JSSJ);  \n",
    "  element.CREATETIME = new Date(element.CREATETIME);  \n",
    "  element.CJSJ = new Date(element.CJSJ);  \n",
    "  db.DY50_XQ_SSSJ_LS.save(element);  \n",
    "})  "
   ]
  },
  {
   "cell_type": "markdown",
   "metadata": {},
   "source": [
    "# 对时间日期类型，建立索引"
   ]
  },
  {
   "cell_type": "code",
   "execution_count": 1,
   "metadata": {
    "collapsed": true
   },
   "outputs": [],
   "source": [
    "from pymongo import IndexModel, ASCENDING, DESCENDING\n",
    "from pymongo import MongoClient\n",
    "client = MongoClient('192.168.1.10', 27017)\n",
    "db = client['trafficn']"
   ]
  },
  {
   "cell_type": "code",
   "execution_count": 2,
   "metadata": {
    "collapsed": false
   },
   "outputs": [
    {
     "data": {
      "text/plain": [
       "u'PJZYL_1'"
      ]
     },
     "execution_count": 2,
     "metadata": {},
     "output_type": "execute_result"
    }
   ],
   "source": [
    "# db.DY50_XQ_SSSJ_LS.create_index([(\"SBBH\", ASCENDING)],background=True)\n",
    "# db.DY50_XQ_SSSJ_LS.create_index([(\"FX\", ASCENDING)],background=True)\n",
    "db.DY50_XQ_SSSJ_LS.create_index([(\"PJCS\", ASCENDING)],background=True)\n",
    "db.DY50_XQ_SSSJ_LS.create_index([(\"QSSJ\", ASCENDING)],background=True)\n",
    "db.DY50_XQ_SSSJ_LS.create_index([(\"JSSJ\", ASCENDING)],background=True)\n",
    "db.DY50_XQ_SSSJ_LS.create_index([(\"CJSJ\", ASCENDING)],background=True)\n",
    "db.DY50_XQ_SSSJ_LS.create_index([(\"PJZYL\", ASCENDING)],background=True)"
   ]
  },
  {
   "cell_type": "code",
   "execution_count": null,
   "metadata": {
    "collapsed": true
   },
   "outputs": [],
   "source": []
  }
 ],
 "metadata": {
  "kernelspec": {
   "display_name": "Python 2",
   "language": "python",
   "name": "python2"
  },
  "language_info": {
   "codemirror_mode": {
    "name": "ipython",
    "version": 2
   },
   "file_extension": ".py",
   "mimetype": "text/x-python",
   "name": "python",
   "nbconvert_exporter": "python",
   "pygments_lexer": "ipython2",
   "version": "2.7.11"
  }
 },
 "nbformat": 4,
 "nbformat_minor": 0
}
